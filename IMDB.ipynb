{
  "nbformat": 4,
  "nbformat_minor": 0,
  "metadata": {
    "kernelspec": {
      "display_name": "Python 3",
      "language": "python",
      "name": "python3"
    },
    "language_info": {
      "codemirror_mode": {
        "name": "ipython",
        "version": 3
      },
      "file_extension": ".py",
      "mimetype": "text/x-python",
      "name": "python",
      "nbconvert_exporter": "python",
      "pygments_lexer": "ipython3",
      "version": "3.7.1"
    },
    "colab": {
      "name": "IMDB.ipynb",
      "provenance": [],
      "collapsed_sections": [],
      "toc_visible": true,
      "include_colab_link": true
    }
  },
  "cells": [
    {
      "cell_type": "markdown",
      "metadata": {
        "id": "view-in-github",
        "colab_type": "text"
      },
      "source": [
        "<a href=\"https://colab.research.google.com/github/Pradeep-prusty/IMDB-Dataset-analysis/blob/main/IMDB.ipynb\" target=\"_parent\"><img src=\"https://colab.research.google.com/assets/colab-badge.svg\" alt=\"Open In Colab\"/></a>"
      ]
    },
    {
      "cell_type": "markdown",
      "metadata": {
        "id": "3_Fv7J8jTBlu"
      },
      "source": [
        "## You have been hired by a rookie movie producer to help him decide what type of movies to produce and which actors to cast. You have to back your recommendations based on thorough analysis of the data he shared with you which has the list of 3000 movies and the corresponding details.\n",
        "\n",
        "## As a data scientist, you have to first explore the data and check its sanity.\n",
        "\n",
        "## Further, you have to answer the following questions:\n",
        "1. ### <b> Which movie made the highest profit? Who were its producer and director? Identify the actors in that film.</b>\n",
        "2. ### <b>This data has information about movies made in different languages. Which language has the highest average ROI (return on investment)? </b>\n",
        "3. ### <b> Find out the unique genres of movies in this dataset.</b>\n",
        "4. ### <b> Make a table of all the producers and directors of each movie. Find the top 3 producers who have produced movies with the highest average RoI? </b>\n",
        "5. ### <b> Which actor has acted in the most number of movies? Deep dive into the movies, genres and profits corresponding to this actor. </b>\n",
        "6. ### <b>Top 3 directors prefer which actors the most? </b>\n",
        "\n"
      ]
    },
    {
      "cell_type": "code",
      "metadata": {
        "colab": {
          "base_uri": "https://localhost:8080/"
        },
        "id": "P6__MsS5DCm-",
        "outputId": "640179cd-d20e-4f43-9197-dc2e75fba37d"
      },
      "source": [
        "from google.colab import drive\n",
        "drive.mount('/content/drive/')"
      ],
      "execution_count": null,
      "outputs": [
        {
          "output_type": "stream",
          "text": [
            "Drive already mounted at /content/drive/; to attempt to forcibly remount, call drive.mount(\"/content/drive/\", force_remount=True).\n"
          ],
          "name": "stdout"
        }
      ]
    },
    {
      "cell_type": "markdown",
      "metadata": {
        "id": "Fx8CVjtZW_BF"
      },
      "source": [
        "# Data Exploration"
      ]
    },
    {
      "cell_type": "code",
      "metadata": {
        "id": "vq7iMfybnKNP"
      },
      "source": [
        "#Import package\n",
        "import pandas as pd\n",
        "import numpy as np"
      ],
      "execution_count": null,
      "outputs": []
    },
    {
      "cell_type": "code",
      "metadata": {
        "id": "mZ4nse2rDm-l"
      },
      "source": [
        "imdb_df = pd.read_csv('/content/drive/MyDrive/imdb_data.csv')"
      ],
      "execution_count": null,
      "outputs": []
    },
    {
      "cell_type": "code",
      "metadata": {
        "colab": {
          "base_uri": "https://localhost:8080/",
          "height": 323
        },
        "id": "W5U_B0j0EDkb",
        "outputId": "34ec5a08-00ad-4bf9-c270-7a488b4dec82"
      },
      "source": [
        "imdb_df.head(2)"
      ],
      "execution_count": null,
      "outputs": [
        {
          "output_type": "execute_result",
          "data": {
            "text/html": [
              "<div>\n",
              "<style scoped>\n",
              "    .dataframe tbody tr th:only-of-type {\n",
              "        vertical-align: middle;\n",
              "    }\n",
              "\n",
              "    .dataframe tbody tr th {\n",
              "        vertical-align: top;\n",
              "    }\n",
              "\n",
              "    .dataframe thead th {\n",
              "        text-align: right;\n",
              "    }\n",
              "</style>\n",
              "<table border=\"1\" class=\"dataframe\">\n",
              "  <thead>\n",
              "    <tr style=\"text-align: right;\">\n",
              "      <th></th>\n",
              "      <th>id</th>\n",
              "      <th>belongs_to_collection</th>\n",
              "      <th>budget</th>\n",
              "      <th>genres</th>\n",
              "      <th>homepage</th>\n",
              "      <th>imdb_id</th>\n",
              "      <th>original_language</th>\n",
              "      <th>original_title</th>\n",
              "      <th>overview</th>\n",
              "      <th>popularity</th>\n",
              "      <th>poster_path</th>\n",
              "      <th>production_companies</th>\n",
              "      <th>production_countries</th>\n",
              "      <th>release_date</th>\n",
              "      <th>runtime</th>\n",
              "      <th>spoken_languages</th>\n",
              "      <th>status</th>\n",
              "      <th>tagline</th>\n",
              "      <th>title</th>\n",
              "      <th>Keywords</th>\n",
              "      <th>cast</th>\n",
              "      <th>crew</th>\n",
              "      <th>revenue</th>\n",
              "    </tr>\n",
              "  </thead>\n",
              "  <tbody>\n",
              "    <tr>\n",
              "      <th>0</th>\n",
              "      <td>1</td>\n",
              "      <td>[{'id': 313576, 'name': 'Hot Tub Time Machine ...</td>\n",
              "      <td>14000000</td>\n",
              "      <td>[{'id': 35, 'name': 'Comedy'}]</td>\n",
              "      <td>NaN</td>\n",
              "      <td>tt2637294</td>\n",
              "      <td>en</td>\n",
              "      <td>Hot Tub Time Machine 2</td>\n",
              "      <td>When Lou, who has become the \"father of the In...</td>\n",
              "      <td>6.575393</td>\n",
              "      <td>/tQtWuwvMf0hCc2QR2tkolwl7c3c.jpg</td>\n",
              "      <td>[{'name': 'Paramount Pictures', 'id': 4}, {'na...</td>\n",
              "      <td>[{'iso_3166_1': 'US', 'name': 'United States o...</td>\n",
              "      <td>2/20/15</td>\n",
              "      <td>93.0</td>\n",
              "      <td>[{'iso_639_1': 'en', 'name': 'English'}]</td>\n",
              "      <td>Released</td>\n",
              "      <td>The Laws of Space and Time are About to be Vio...</td>\n",
              "      <td>Hot Tub Time Machine 2</td>\n",
              "      <td>[{'id': 4379, 'name': 'time travel'}, {'id': 9...</td>\n",
              "      <td>[{'cast_id': 4, 'character': 'Lou', 'credit_id...</td>\n",
              "      <td>[{'credit_id': '59ac067c92514107af02c8c8', 'de...</td>\n",
              "      <td>12314651</td>\n",
              "    </tr>\n",
              "    <tr>\n",
              "      <th>1</th>\n",
              "      <td>2</td>\n",
              "      <td>[{'id': 107674, 'name': 'The Princess Diaries ...</td>\n",
              "      <td>40000000</td>\n",
              "      <td>[{'id': 35, 'name': 'Comedy'}, {'id': 18, 'nam...</td>\n",
              "      <td>NaN</td>\n",
              "      <td>tt0368933</td>\n",
              "      <td>en</td>\n",
              "      <td>The Princess Diaries 2: Royal Engagement</td>\n",
              "      <td>Mia Thermopolis is now a college graduate and ...</td>\n",
              "      <td>8.248895</td>\n",
              "      <td>/w9Z7A0GHEhIp7etpj0vyKOeU1Wx.jpg</td>\n",
              "      <td>[{'name': 'Walt Disney Pictures', 'id': 2}]</td>\n",
              "      <td>[{'iso_3166_1': 'US', 'name': 'United States o...</td>\n",
              "      <td>8/6/04</td>\n",
              "      <td>113.0</td>\n",
              "      <td>[{'iso_639_1': 'en', 'name': 'English'}]</td>\n",
              "      <td>Released</td>\n",
              "      <td>It can take a lifetime to find true love; she'...</td>\n",
              "      <td>The Princess Diaries 2: Royal Engagement</td>\n",
              "      <td>[{'id': 2505, 'name': 'coronation'}, {'id': 42...</td>\n",
              "      <td>[{'cast_id': 1, 'character': 'Mia Thermopolis'...</td>\n",
              "      <td>[{'credit_id': '52fe43fe9251416c7502563d', 'de...</td>\n",
              "      <td>95149435</td>\n",
              "    </tr>\n",
              "  </tbody>\n",
              "</table>\n",
              "</div>"
            ],
            "text/plain": [
              "   id  ...   revenue\n",
              "0   1  ...  12314651\n",
              "1   2  ...  95149435\n",
              "\n",
              "[2 rows x 23 columns]"
            ]
          },
          "metadata": {
            "tags": []
          },
          "execution_count": 4
        }
      ]
    },
    {
      "cell_type": "code",
      "metadata": {
        "colab": {
          "base_uri": "https://localhost:8080/"
        },
        "id": "iMwpBGFeEGgx",
        "outputId": "04b1e5f6-f29a-4570-f660-596237f0af92"
      },
      "source": [
        "imdb_df.info()"
      ],
      "execution_count": null,
      "outputs": [
        {
          "output_type": "stream",
          "text": [
            "<class 'pandas.core.frame.DataFrame'>\n",
            "RangeIndex: 3000 entries, 0 to 2999\n",
            "Data columns (total 23 columns):\n",
            " #   Column                 Non-Null Count  Dtype  \n",
            "---  ------                 --------------  -----  \n",
            " 0   id                     3000 non-null   int64  \n",
            " 1   belongs_to_collection  604 non-null    object \n",
            " 2   budget                 3000 non-null   int64  \n",
            " 3   genres                 2993 non-null   object \n",
            " 4   homepage               946 non-null    object \n",
            " 5   imdb_id                3000 non-null   object \n",
            " 6   original_language      3000 non-null   object \n",
            " 7   original_title         3000 non-null   object \n",
            " 8   overview               2992 non-null   object \n",
            " 9   popularity             3000 non-null   float64\n",
            " 10  poster_path            2999 non-null   object \n",
            " 11  production_companies   2844 non-null   object \n",
            " 12  production_countries   2945 non-null   object \n",
            " 13  release_date           3000 non-null   object \n",
            " 14  runtime                2998 non-null   float64\n",
            " 15  spoken_languages       2980 non-null   object \n",
            " 16  status                 3000 non-null   object \n",
            " 17  tagline                2403 non-null   object \n",
            " 18  title                  3000 non-null   object \n",
            " 19  Keywords               2724 non-null   object \n",
            " 20  cast                   2987 non-null   object \n",
            " 21  crew                   2984 non-null   object \n",
            " 22  revenue                3000 non-null   int64  \n",
            "dtypes: float64(2), int64(3), object(18)\n",
            "memory usage: 539.2+ KB\n"
          ],
          "name": "stdout"
        }
      ]
    },
    {
      "cell_type": "code",
      "metadata": {
        "colab": {
          "base_uri": "https://localhost:8080/"
        },
        "id": "J_Od2vftFrdO",
        "outputId": "dea2d15c-1546-4458-ef3e-4d6d953e72ca"
      },
      "source": [
        "print(imdb_df.columns)"
      ],
      "execution_count": null,
      "outputs": [
        {
          "output_type": "stream",
          "text": [
            "Index(['id', 'belongs_to_collection', 'budget', 'genres', 'homepage',\n",
            "       'imdb_id', 'original_language', 'original_title', 'overview',\n",
            "       'popularity', 'poster_path', 'production_companies',\n",
            "       'production_countries', 'release_date', 'runtime', 'spoken_languages',\n",
            "       'status', 'tagline', 'title', 'Keywords', 'cast', 'crew', 'revenue'],\n",
            "      dtype='object')\n"
          ],
          "name": "stdout"
        }
      ]
    },
    {
      "cell_type": "markdown",
      "metadata": {
        "id": "HRacEdjwF0fQ"
      },
      "source": [
        "##After reading all Qs. now subsetting out columns neceesary for answering the question in order to get proper insights\n",
        "\n",
        "#### **keep all columns which are non null"
      ]
    },
    {
      "cell_type": "code",
      "metadata": {
        "id": "TBZ_pc71Fx2J"
      },
      "source": [
        "columns_to_keep= ['budget', 'genres','original_language', 'original_title','cast', 'crew', 'revenue']"
      ],
      "execution_count": null,
      "outputs": []
    },
    {
      "cell_type": "code",
      "metadata": {
        "colab": {
          "base_uri": "https://localhost:8080/"
        },
        "id": "tmg0rbFDHE-1",
        "outputId": "4675d3fb-97b2-4373-fe76-de04d9758ad9"
      },
      "source": [
        "#find all the row indexes for which genres is not null\n",
        "imdb_df.loc[~imdb_df['genres'].isna(),'genres']"
      ],
      "execution_count": null,
      "outputs": [
        {
          "output_type": "execute_result",
          "data": {
            "text/plain": [
              "0                          [{'id': 35, 'name': 'Comedy'}]\n",
              "1       [{'id': 35, 'name': 'Comedy'}, {'id': 18, 'nam...\n",
              "2                           [{'id': 18, 'name': 'Drama'}]\n",
              "3       [{'id': 53, 'name': 'Thriller'}, {'id': 18, 'n...\n",
              "4       [{'id': 28, 'name': 'Action'}, {'id': 53, 'nam...\n",
              "                              ...                        \n",
              "2995    [{'id': 35, 'name': 'Comedy'}, {'id': 10749, '...\n",
              "2996    [{'id': 18, 'name': 'Drama'}, {'id': 10402, 'n...\n",
              "2997    [{'id': 80, 'name': 'Crime'}, {'id': 28, 'name...\n",
              "2998    [{'id': 35, 'name': 'Comedy'}, {'id': 10749, '...\n",
              "2999    [{'id': 53, 'name': 'Thriller'}, {'id': 28, 'n...\n",
              "Name: genres, Length: 2993, dtype: object"
            ]
          },
          "metadata": {
            "tags": []
          },
          "execution_count": 8
        }
      ]
    },
    {
      "cell_type": "code",
      "metadata": {
        "colab": {
          "base_uri": "https://localhost:8080/"
        },
        "id": "LSo6N0zlEJto",
        "outputId": "89f9abe8-a92d-44c6-8260-9cbfe30fdcb0"
      },
      "source": [
        "type(imdb_df.loc[0,'cast'])"
      ],
      "execution_count": null,
      "outputs": [
        {
          "output_type": "execute_result",
          "data": {
            "text/plain": [
              "str"
            ]
          },
          "metadata": {
            "tags": []
          },
          "execution_count": 9
        }
      ]
    },
    {
      "cell_type": "markdown",
      "metadata": {
        "id": "AF_MT5W6FBlb"
      },
      "source": [
        "##Converting the string values to proper list and we are using it on columns --> cast crew genres\n",
        "## Converting only non null string"
      ]
    },
    {
      "cell_type": "code",
      "metadata": {
        "id": "GaRHldsFEhIF"
      },
      "source": [
        "def convert_to_list(str):\n",
        "  return eval(str)"
      ],
      "execution_count": null,
      "outputs": []
    },
    {
      "cell_type": "code",
      "metadata": {
        "id": "Us-VvGs4Fi9D"
      },
      "source": [
        "#apply the above function only on non null values in genres column\n",
        "imdb_df.loc[~imdb_df['genres'].isna(),'genres']= imdb_df.loc[~imdb_df['genres'].isna(),'genres'].apply(convert_to_list)"
      ],
      "execution_count": null,
      "outputs": []
    },
    {
      "cell_type": "code",
      "metadata": {
        "id": "ZBtCBX4cH_z7"
      },
      "source": [
        "#apply the above function only on non null values in cast column\n",
        "imdb_df.loc[~imdb_df['cast'].isna(),'cast']= imdb_df.loc[~imdb_df['cast'].isna(),'cast'].apply(convert_to_list)"
      ],
      "execution_count": null,
      "outputs": []
    },
    {
      "cell_type": "code",
      "metadata": {
        "id": "KlTeSq5OIIf1"
      },
      "source": [
        "#apply the above function only on non null values in crew column\n",
        "imdb_df.loc[~imdb_df['crew'].isna(),'crew']= imdb_df.loc[~imdb_df['crew'].isna(),'crew'].apply(convert_to_list)"
      ],
      "execution_count": null,
      "outputs": []
    },
    {
      "cell_type": "markdown",
      "metadata": {
        "id": "psriYR9ojvI5"
      },
      "source": [
        "just keep in mind which column we have to use"
      ]
    },
    {
      "cell_type": "code",
      "metadata": {
        "id": "qEq6DymfI2dk"
      },
      "source": [
        "#creating a copy of orginal df\n",
        "imdb_df_new = imdb_df.copy()"
      ],
      "execution_count": null,
      "outputs": []
    },
    {
      "cell_type": "code",
      "metadata": {
        "colab": {
          "base_uri": "https://localhost:8080/",
          "height": 323
        },
        "id": "ZaljcVN-JtyV",
        "outputId": "915cfe4f-1741-4f96-9198-dd9af6511951"
      },
      "source": [
        "imdb_df_new.head(2)"
      ],
      "execution_count": null,
      "outputs": [
        {
          "output_type": "execute_result",
          "data": {
            "text/html": [
              "<div>\n",
              "<style scoped>\n",
              "    .dataframe tbody tr th:only-of-type {\n",
              "        vertical-align: middle;\n",
              "    }\n",
              "\n",
              "    .dataframe tbody tr th {\n",
              "        vertical-align: top;\n",
              "    }\n",
              "\n",
              "    .dataframe thead th {\n",
              "        text-align: right;\n",
              "    }\n",
              "</style>\n",
              "<table border=\"1\" class=\"dataframe\">\n",
              "  <thead>\n",
              "    <tr style=\"text-align: right;\">\n",
              "      <th></th>\n",
              "      <th>id</th>\n",
              "      <th>belongs_to_collection</th>\n",
              "      <th>budget</th>\n",
              "      <th>genres</th>\n",
              "      <th>homepage</th>\n",
              "      <th>imdb_id</th>\n",
              "      <th>original_language</th>\n",
              "      <th>original_title</th>\n",
              "      <th>overview</th>\n",
              "      <th>popularity</th>\n",
              "      <th>poster_path</th>\n",
              "      <th>production_companies</th>\n",
              "      <th>production_countries</th>\n",
              "      <th>release_date</th>\n",
              "      <th>runtime</th>\n",
              "      <th>spoken_languages</th>\n",
              "      <th>status</th>\n",
              "      <th>tagline</th>\n",
              "      <th>title</th>\n",
              "      <th>Keywords</th>\n",
              "      <th>cast</th>\n",
              "      <th>crew</th>\n",
              "      <th>revenue</th>\n",
              "    </tr>\n",
              "  </thead>\n",
              "  <tbody>\n",
              "    <tr>\n",
              "      <th>0</th>\n",
              "      <td>1</td>\n",
              "      <td>[{'id': 313576, 'name': 'Hot Tub Time Machine ...</td>\n",
              "      <td>14000000</td>\n",
              "      <td>[{'id': 35, 'name': 'Comedy'}]</td>\n",
              "      <td>NaN</td>\n",
              "      <td>tt2637294</td>\n",
              "      <td>en</td>\n",
              "      <td>Hot Tub Time Machine 2</td>\n",
              "      <td>When Lou, who has become the \"father of the In...</td>\n",
              "      <td>6.575393</td>\n",
              "      <td>/tQtWuwvMf0hCc2QR2tkolwl7c3c.jpg</td>\n",
              "      <td>[{'name': 'Paramount Pictures', 'id': 4}, {'na...</td>\n",
              "      <td>[{'iso_3166_1': 'US', 'name': 'United States o...</td>\n",
              "      <td>2/20/15</td>\n",
              "      <td>93.0</td>\n",
              "      <td>[{'iso_639_1': 'en', 'name': 'English'}]</td>\n",
              "      <td>Released</td>\n",
              "      <td>The Laws of Space and Time are About to be Vio...</td>\n",
              "      <td>Hot Tub Time Machine 2</td>\n",
              "      <td>[{'id': 4379, 'name': 'time travel'}, {'id': 9...</td>\n",
              "      <td>[{'cast_id': 4, 'character': 'Lou', 'credit_id...</td>\n",
              "      <td>[{'credit_id': '59ac067c92514107af02c8c8', 'de...</td>\n",
              "      <td>12314651</td>\n",
              "    </tr>\n",
              "    <tr>\n",
              "      <th>1</th>\n",
              "      <td>2</td>\n",
              "      <td>[{'id': 107674, 'name': 'The Princess Diaries ...</td>\n",
              "      <td>40000000</td>\n",
              "      <td>[{'id': 35, 'name': 'Comedy'}, {'id': 18, 'nam...</td>\n",
              "      <td>NaN</td>\n",
              "      <td>tt0368933</td>\n",
              "      <td>en</td>\n",
              "      <td>The Princess Diaries 2: Royal Engagement</td>\n",
              "      <td>Mia Thermopolis is now a college graduate and ...</td>\n",
              "      <td>8.248895</td>\n",
              "      <td>/w9Z7A0GHEhIp7etpj0vyKOeU1Wx.jpg</td>\n",
              "      <td>[{'name': 'Walt Disney Pictures', 'id': 2}]</td>\n",
              "      <td>[{'iso_3166_1': 'US', 'name': 'United States o...</td>\n",
              "      <td>8/6/04</td>\n",
              "      <td>113.0</td>\n",
              "      <td>[{'iso_639_1': 'en', 'name': 'English'}]</td>\n",
              "      <td>Released</td>\n",
              "      <td>It can take a lifetime to find true love; she'...</td>\n",
              "      <td>The Princess Diaries 2: Royal Engagement</td>\n",
              "      <td>[{'id': 2505, 'name': 'coronation'}, {'id': 42...</td>\n",
              "      <td>[{'cast_id': 1, 'character': 'Mia Thermopolis'...</td>\n",
              "      <td>[{'credit_id': '52fe43fe9251416c7502563d', 'de...</td>\n",
              "      <td>95149435</td>\n",
              "    </tr>\n",
              "  </tbody>\n",
              "</table>\n",
              "</div>"
            ],
            "text/plain": [
              "   id  ...   revenue\n",
              "0   1  ...  12314651\n",
              "1   2  ...  95149435\n",
              "\n",
              "[2 rows x 23 columns]"
            ]
          },
          "metadata": {
            "tags": []
          },
          "execution_count": 15
        }
      ]
    },
    {
      "cell_type": "markdown",
      "metadata": {
        "id": "w5fXmoGpIlqm"
      },
      "source": [
        "#Q1.Which movie made the highest profit? Who were its producer and director? Identify the actors in that film."
      ]
    },
    {
      "cell_type": "code",
      "metadata": {
        "colab": {
          "base_uri": "https://localhost:8080/",
          "height": 300
        },
        "id": "vSnL5Wr-IU0F",
        "outputId": "bf40a95a-5d1a-4b25-b3a5-63d699cc699c"
      },
      "source": [
        "#checking for sanity in budget columns (outliers,vague values etc)\n",
        "imdb_df_new.describe()\n",
        "#budget of a movie in general cannot be 0 hence replacing those value with 0"
      ],
      "execution_count": null,
      "outputs": [
        {
          "output_type": "execute_result",
          "data": {
            "text/html": [
              "<div>\n",
              "<style scoped>\n",
              "    .dataframe tbody tr th:only-of-type {\n",
              "        vertical-align: middle;\n",
              "    }\n",
              "\n",
              "    .dataframe tbody tr th {\n",
              "        vertical-align: top;\n",
              "    }\n",
              "\n",
              "    .dataframe thead th {\n",
              "        text-align: right;\n",
              "    }\n",
              "</style>\n",
              "<table border=\"1\" class=\"dataframe\">\n",
              "  <thead>\n",
              "    <tr style=\"text-align: right;\">\n",
              "      <th></th>\n",
              "      <th>id</th>\n",
              "      <th>budget</th>\n",
              "      <th>popularity</th>\n",
              "      <th>runtime</th>\n",
              "      <th>revenue</th>\n",
              "    </tr>\n",
              "  </thead>\n",
              "  <tbody>\n",
              "    <tr>\n",
              "      <th>count</th>\n",
              "      <td>3000.000000</td>\n",
              "      <td>3.000000e+03</td>\n",
              "      <td>3000.000000</td>\n",
              "      <td>2998.000000</td>\n",
              "      <td>3.000000e+03</td>\n",
              "    </tr>\n",
              "    <tr>\n",
              "      <th>mean</th>\n",
              "      <td>1500.500000</td>\n",
              "      <td>2.253133e+07</td>\n",
              "      <td>8.463274</td>\n",
              "      <td>107.856571</td>\n",
              "      <td>6.672585e+07</td>\n",
              "    </tr>\n",
              "    <tr>\n",
              "      <th>std</th>\n",
              "      <td>866.169729</td>\n",
              "      <td>3.702609e+07</td>\n",
              "      <td>12.104000</td>\n",
              "      <td>22.086434</td>\n",
              "      <td>1.375323e+08</td>\n",
              "    </tr>\n",
              "    <tr>\n",
              "      <th>min</th>\n",
              "      <td>1.000000</td>\n",
              "      <td>0.000000e+00</td>\n",
              "      <td>0.000001</td>\n",
              "      <td>0.000000</td>\n",
              "      <td>1.000000e+00</td>\n",
              "    </tr>\n",
              "    <tr>\n",
              "      <th>25%</th>\n",
              "      <td>750.750000</td>\n",
              "      <td>0.000000e+00</td>\n",
              "      <td>4.018053</td>\n",
              "      <td>94.000000</td>\n",
              "      <td>2.379808e+06</td>\n",
              "    </tr>\n",
              "    <tr>\n",
              "      <th>50%</th>\n",
              "      <td>1500.500000</td>\n",
              "      <td>8.000000e+06</td>\n",
              "      <td>7.374861</td>\n",
              "      <td>104.000000</td>\n",
              "      <td>1.680707e+07</td>\n",
              "    </tr>\n",
              "    <tr>\n",
              "      <th>75%</th>\n",
              "      <td>2250.250000</td>\n",
              "      <td>2.900000e+07</td>\n",
              "      <td>10.890983</td>\n",
              "      <td>118.000000</td>\n",
              "      <td>6.891920e+07</td>\n",
              "    </tr>\n",
              "    <tr>\n",
              "      <th>max</th>\n",
              "      <td>3000.000000</td>\n",
              "      <td>3.800000e+08</td>\n",
              "      <td>294.337037</td>\n",
              "      <td>338.000000</td>\n",
              "      <td>1.519558e+09</td>\n",
              "    </tr>\n",
              "  </tbody>\n",
              "</table>\n",
              "</div>"
            ],
            "text/plain": [
              "                id        budget   popularity      runtime       revenue\n",
              "count  3000.000000  3.000000e+03  3000.000000  2998.000000  3.000000e+03\n",
              "mean   1500.500000  2.253133e+07     8.463274   107.856571  6.672585e+07\n",
              "std     866.169729  3.702609e+07    12.104000    22.086434  1.375323e+08\n",
              "min       1.000000  0.000000e+00     0.000001     0.000000  1.000000e+00\n",
              "25%     750.750000  0.000000e+00     4.018053    94.000000  2.379808e+06\n",
              "50%    1500.500000  8.000000e+06     7.374861   104.000000  1.680707e+07\n",
              "75%    2250.250000  2.900000e+07    10.890983   118.000000  6.891920e+07\n",
              "max    3000.000000  3.800000e+08   294.337037   338.000000  1.519558e+09"
            ]
          },
          "metadata": {
            "tags": []
          },
          "execution_count": 16
        }
      ]
    },
    {
      "cell_type": "code",
      "metadata": {
        "colab": {
          "base_uri": "https://localhost:8080/",
          "height": 441
        },
        "id": "mF8LaaA2KTjH",
        "outputId": "82fb64b3-4f31-4a2c-8d9d-77d25582edaa"
      },
      "source": [
        "\n",
        "imdb_df_new[imdb_df_new['budget']==0].head(3)"
      ],
      "execution_count": null,
      "outputs": [
        {
          "output_type": "execute_result",
          "data": {
            "text/html": [
              "<div>\n",
              "<style scoped>\n",
              "    .dataframe tbody tr th:only-of-type {\n",
              "        vertical-align: middle;\n",
              "    }\n",
              "\n",
              "    .dataframe tbody tr th {\n",
              "        vertical-align: top;\n",
              "    }\n",
              "\n",
              "    .dataframe thead th {\n",
              "        text-align: right;\n",
              "    }\n",
              "</style>\n",
              "<table border=\"1\" class=\"dataframe\">\n",
              "  <thead>\n",
              "    <tr style=\"text-align: right;\">\n",
              "      <th></th>\n",
              "      <th>id</th>\n",
              "      <th>belongs_to_collection</th>\n",
              "      <th>budget</th>\n",
              "      <th>genres</th>\n",
              "      <th>homepage</th>\n",
              "      <th>imdb_id</th>\n",
              "      <th>original_language</th>\n",
              "      <th>original_title</th>\n",
              "      <th>overview</th>\n",
              "      <th>popularity</th>\n",
              "      <th>poster_path</th>\n",
              "      <th>production_companies</th>\n",
              "      <th>production_countries</th>\n",
              "      <th>release_date</th>\n",
              "      <th>runtime</th>\n",
              "      <th>spoken_languages</th>\n",
              "      <th>status</th>\n",
              "      <th>tagline</th>\n",
              "      <th>title</th>\n",
              "      <th>Keywords</th>\n",
              "      <th>cast</th>\n",
              "      <th>crew</th>\n",
              "      <th>revenue</th>\n",
              "    </tr>\n",
              "  </thead>\n",
              "  <tbody>\n",
              "    <tr>\n",
              "      <th>4</th>\n",
              "      <td>5</td>\n",
              "      <td>NaN</td>\n",
              "      <td>0</td>\n",
              "      <td>[{'id': 28, 'name': 'Action'}, {'id': 53, 'nam...</td>\n",
              "      <td>NaN</td>\n",
              "      <td>tt1380152</td>\n",
              "      <td>ko</td>\n",
              "      <td>마린보이</td>\n",
              "      <td>Marine Boy is the story of a former national s...</td>\n",
              "      <td>1.148070</td>\n",
              "      <td>/m22s7zvkVFDU9ir56PiiqIEWFdT.jpg</td>\n",
              "      <td>NaN</td>\n",
              "      <td>[{'iso_3166_1': 'KR', 'name': 'South Korea'}]</td>\n",
              "      <td>2/5/09</td>\n",
              "      <td>118.0</td>\n",
              "      <td>[{'iso_639_1': 'ko', 'name': '한국어/조선말'}]</td>\n",
              "      <td>Released</td>\n",
              "      <td>NaN</td>\n",
              "      <td>Marine Boy</td>\n",
              "      <td>NaN</td>\n",
              "      <td>[{'cast_id': 3, 'character': 'Chun-soo', 'cred...</td>\n",
              "      <td>[{'credit_id': '52fe464b9251416c75073b43', 'de...</td>\n",
              "      <td>3923970</td>\n",
              "    </tr>\n",
              "    <tr>\n",
              "      <th>7</th>\n",
              "      <td>8</td>\n",
              "      <td>NaN</td>\n",
              "      <td>0</td>\n",
              "      <td>[{'id': 99, 'name': 'Documentary'}]</td>\n",
              "      <td>NaN</td>\n",
              "      <td>tt0391024</td>\n",
              "      <td>en</td>\n",
              "      <td>Control Room</td>\n",
              "      <td>A chronicle which provides a rare window into ...</td>\n",
              "      <td>1.949044</td>\n",
              "      <td>/83BV8fGy5p9i8RwE9oj76tZ1Ikp.jpg</td>\n",
              "      <td>NaN</td>\n",
              "      <td>NaN</td>\n",
              "      <td>1/15/04</td>\n",
              "      <td>84.0</td>\n",
              "      <td>[{'iso_639_1': 'ar', 'name': 'العربية'}, {'iso...</td>\n",
              "      <td>Released</td>\n",
              "      <td>Different channels. Different truths.</td>\n",
              "      <td>Control Room</td>\n",
              "      <td>[{'id': 917, 'name': 'journalism'}, {'id': 163...</td>\n",
              "      <td>[{'cast_id': 2, 'character': 'Himself', 'credi...</td>\n",
              "      <td>[{'credit_id': '52fe47a69251416c750a0daf', 'de...</td>\n",
              "      <td>2586511</td>\n",
              "    </tr>\n",
              "    <tr>\n",
              "      <th>8</th>\n",
              "      <td>9</td>\n",
              "      <td>[{'id': 256377, 'name': 'The Muppet Collection...</td>\n",
              "      <td>0</td>\n",
              "      <td>[{'id': 28, 'name': 'Action'}, {'id': 35, 'nam...</td>\n",
              "      <td>NaN</td>\n",
              "      <td>tt0117110</td>\n",
              "      <td>en</td>\n",
              "      <td>Muppet Treasure Island</td>\n",
              "      <td>After telling the story of Flint's last journe...</td>\n",
              "      <td>6.902423</td>\n",
              "      <td>/5A8gKzOrF9Z7tSUX6xd5dEx4NXf.jpg</td>\n",
              "      <td>[{'name': 'Walt Disney Pictures', 'id': 2}, {'...</td>\n",
              "      <td>[{'iso_3166_1': 'US', 'name': 'United States o...</td>\n",
              "      <td>2/16/96</td>\n",
              "      <td>100.0</td>\n",
              "      <td>[{'iso_639_1': 'en', 'name': 'English'}]</td>\n",
              "      <td>Released</td>\n",
              "      <td>Set sail for Muppet mayhem!</td>\n",
              "      <td>Muppet Treasure Island</td>\n",
              "      <td>[{'id': 2041, 'name': 'island'}, {'id': 4418, ...</td>\n",
              "      <td>[{'cast_id': 1, 'character': 'Long John Silver...</td>\n",
              "      <td>[{'credit_id': '52fe43c89251416c7501deb3', 'de...</td>\n",
              "      <td>34327391</td>\n",
              "    </tr>\n",
              "  </tbody>\n",
              "</table>\n",
              "</div>"
            ],
            "text/plain": [
              "   id  ...   revenue\n",
              "4   5  ...   3923970\n",
              "7   8  ...   2586511\n",
              "8   9  ...  34327391\n",
              "\n",
              "[3 rows x 23 columns]"
            ]
          },
          "metadata": {
            "tags": []
          },
          "execution_count": 17
        }
      ]
    },
    {
      "cell_type": "code",
      "metadata": {
        "colab": {
          "base_uri": "https://localhost:8080/"
        },
        "id": "PyxGenO3LzJc",
        "outputId": "85be9f4b-080d-46b7-f1e4-cbd79052dcb2"
      },
      "source": [
        "imdb_df_new['budget'].median()"
      ],
      "execution_count": null,
      "outputs": [
        {
          "output_type": "execute_result",
          "data": {
            "text/plain": [
              "8000000.0"
            ]
          },
          "metadata": {
            "tags": []
          },
          "execution_count": 18
        }
      ]
    },
    {
      "cell_type": "code",
      "metadata": {
        "id": "k-XmBzjUJDhb"
      },
      "source": [
        "#Replace extremely low values of budget and revenue column with median values of budget, revenue\n",
        "imdb_df_new.loc[imdb_df_new['budget']<1000,'budget']= imdb_df_new['budget'].median()\n",
        "\n",
        "imdb_df_new.loc[imdb_df_new['revenue']<1000,'revenue']= imdb_df_new['revenue'].median()\n",
        "\n"
      ],
      "execution_count": null,
      "outputs": []
    },
    {
      "cell_type": "code",
      "metadata": {
        "colab": {
          "base_uri": "https://localhost:8080/",
          "height": 300
        },
        "id": "c2cefEoWLMQ4",
        "outputId": "8719028a-e9e9-493d-beb7-6d863add73d1"
      },
      "source": [
        "imdb_df_new.describe() #now fine"
      ],
      "execution_count": null,
      "outputs": [
        {
          "output_type": "execute_result",
          "data": {
            "text/html": [
              "<div>\n",
              "<style scoped>\n",
              "    .dataframe tbody tr th:only-of-type {\n",
              "        vertical-align: middle;\n",
              "    }\n",
              "\n",
              "    .dataframe tbody tr th {\n",
              "        vertical-align: top;\n",
              "    }\n",
              "\n",
              "    .dataframe thead th {\n",
              "        text-align: right;\n",
              "    }\n",
              "</style>\n",
              "<table border=\"1\" class=\"dataframe\">\n",
              "  <thead>\n",
              "    <tr style=\"text-align: right;\">\n",
              "      <th></th>\n",
              "      <th>id</th>\n",
              "      <th>budget</th>\n",
              "      <th>popularity</th>\n",
              "      <th>runtime</th>\n",
              "      <th>revenue</th>\n",
              "    </tr>\n",
              "  </thead>\n",
              "  <tbody>\n",
              "    <tr>\n",
              "      <th>count</th>\n",
              "      <td>3000.000000</td>\n",
              "      <td>3.000000e+03</td>\n",
              "      <td>3000.000000</td>\n",
              "      <td>2998.000000</td>\n",
              "      <td>3.000000e+03</td>\n",
              "    </tr>\n",
              "    <tr>\n",
              "      <th>mean</th>\n",
              "      <td>1500.500000</td>\n",
              "      <td>2.474467e+07</td>\n",
              "      <td>8.463274</td>\n",
              "      <td>107.856571</td>\n",
              "      <td>6.704518e+07</td>\n",
              "    </tr>\n",
              "    <tr>\n",
              "      <th>std</th>\n",
              "      <td>866.169729</td>\n",
              "      <td>3.583254e+07</td>\n",
              "      <td>12.104000</td>\n",
              "      <td>22.086434</td>\n",
              "      <td>1.373964e+08</td>\n",
              "    </tr>\n",
              "    <tr>\n",
              "      <th>min</th>\n",
              "      <td>1.000000</td>\n",
              "      <td>2.500000e+03</td>\n",
              "      <td>0.000001</td>\n",
              "      <td>0.000000</td>\n",
              "      <td>1.404000e+03</td>\n",
              "    </tr>\n",
              "    <tr>\n",
              "      <th>25%</th>\n",
              "      <td>750.750000</td>\n",
              "      <td>8.000000e+06</td>\n",
              "      <td>4.018053</td>\n",
              "      <td>94.000000</td>\n",
              "      <td>2.947600e+06</td>\n",
              "    </tr>\n",
              "    <tr>\n",
              "      <th>50%</th>\n",
              "      <td>1500.500000</td>\n",
              "      <td>8.000000e+06</td>\n",
              "      <td>7.374861</td>\n",
              "      <td>104.000000</td>\n",
              "      <td>1.680873e+07</td>\n",
              "    </tr>\n",
              "    <tr>\n",
              "      <th>75%</th>\n",
              "      <td>2250.250000</td>\n",
              "      <td>2.900000e+07</td>\n",
              "      <td>10.890983</td>\n",
              "      <td>118.000000</td>\n",
              "      <td>6.891920e+07</td>\n",
              "    </tr>\n",
              "    <tr>\n",
              "      <th>max</th>\n",
              "      <td>3000.000000</td>\n",
              "      <td>3.800000e+08</td>\n",
              "      <td>294.337037</td>\n",
              "      <td>338.000000</td>\n",
              "      <td>1.519558e+09</td>\n",
              "    </tr>\n",
              "  </tbody>\n",
              "</table>\n",
              "</div>"
            ],
            "text/plain": [
              "                id        budget   popularity      runtime       revenue\n",
              "count  3000.000000  3.000000e+03  3000.000000  2998.000000  3.000000e+03\n",
              "mean   1500.500000  2.474467e+07     8.463274   107.856571  6.704518e+07\n",
              "std     866.169729  3.583254e+07    12.104000    22.086434  1.373964e+08\n",
              "min       1.000000  2.500000e+03     0.000001     0.000000  1.404000e+03\n",
              "25%     750.750000  8.000000e+06     4.018053    94.000000  2.947600e+06\n",
              "50%    1500.500000  8.000000e+06     7.374861   104.000000  1.680873e+07\n",
              "75%    2250.250000  2.900000e+07    10.890983   118.000000  6.891920e+07\n",
              "max    3000.000000  3.800000e+08   294.337037   338.000000  1.519558e+09"
            ]
          },
          "metadata": {
            "tags": []
          },
          "execution_count": 20
        }
      ]
    },
    {
      "cell_type": "code",
      "metadata": {
        "colab": {
          "base_uri": "https://localhost:8080/"
        },
        "id": "6namVi_xivlv",
        "outputId": "61a159ab-cce2-48cf-a522-d3acd33621e5"
      },
      "source": [
        "imdb_df_new['genres'].isnull().sum()"
      ],
      "execution_count": null,
      "outputs": [
        {
          "output_type": "execute_result",
          "data": {
            "text/plain": [
              "7"
            ]
          },
          "metadata": {
            "tags": []
          },
          "execution_count": 21
        }
      ]
    },
    {
      "cell_type": "code",
      "metadata": {
        "id": "xJpj8UrjMdQN"
      },
      "source": [
        "#create profit and ROI column\n",
        "imdb_df_new['profit'] = imdb_df_new['revenue'] - imdb_df_new['budget']\n",
        "imdb_df_new['roi']= 100* (imdb_df_new['profit']/imdb_df_new['budget'])"
      ],
      "execution_count": null,
      "outputs": []
    },
    {
      "cell_type": "code",
      "metadata": {
        "colab": {
          "base_uri": "https://localhost:8080/",
          "height": 323
        },
        "id": "h4HWcUEqM6OY",
        "outputId": "95a313ca-461c-4178-fba8-cce47b66459f"
      },
      "source": [
        "\n",
        "imdb_df_new.head(2)"
      ],
      "execution_count": null,
      "outputs": [
        {
          "output_type": "execute_result",
          "data": {
            "text/html": [
              "<div>\n",
              "<style scoped>\n",
              "    .dataframe tbody tr th:only-of-type {\n",
              "        vertical-align: middle;\n",
              "    }\n",
              "\n",
              "    .dataframe tbody tr th {\n",
              "        vertical-align: top;\n",
              "    }\n",
              "\n",
              "    .dataframe thead th {\n",
              "        text-align: right;\n",
              "    }\n",
              "</style>\n",
              "<table border=\"1\" class=\"dataframe\">\n",
              "  <thead>\n",
              "    <tr style=\"text-align: right;\">\n",
              "      <th></th>\n",
              "      <th>id</th>\n",
              "      <th>belongs_to_collection</th>\n",
              "      <th>budget</th>\n",
              "      <th>genres</th>\n",
              "      <th>homepage</th>\n",
              "      <th>imdb_id</th>\n",
              "      <th>original_language</th>\n",
              "      <th>original_title</th>\n",
              "      <th>overview</th>\n",
              "      <th>popularity</th>\n",
              "      <th>poster_path</th>\n",
              "      <th>production_companies</th>\n",
              "      <th>production_countries</th>\n",
              "      <th>release_date</th>\n",
              "      <th>runtime</th>\n",
              "      <th>spoken_languages</th>\n",
              "      <th>status</th>\n",
              "      <th>tagline</th>\n",
              "      <th>title</th>\n",
              "      <th>Keywords</th>\n",
              "      <th>cast</th>\n",
              "      <th>crew</th>\n",
              "      <th>revenue</th>\n",
              "      <th>profit</th>\n",
              "      <th>roi</th>\n",
              "    </tr>\n",
              "  </thead>\n",
              "  <tbody>\n",
              "    <tr>\n",
              "      <th>0</th>\n",
              "      <td>1</td>\n",
              "      <td>[{'id': 313576, 'name': 'Hot Tub Time Machine ...</td>\n",
              "      <td>14000000</td>\n",
              "      <td>[{'id': 35, 'name': 'Comedy'}]</td>\n",
              "      <td>NaN</td>\n",
              "      <td>tt2637294</td>\n",
              "      <td>en</td>\n",
              "      <td>Hot Tub Time Machine 2</td>\n",
              "      <td>When Lou, who has become the \"father of the In...</td>\n",
              "      <td>6.575393</td>\n",
              "      <td>/tQtWuwvMf0hCc2QR2tkolwl7c3c.jpg</td>\n",
              "      <td>[{'name': 'Paramount Pictures', 'id': 4}, {'na...</td>\n",
              "      <td>[{'iso_3166_1': 'US', 'name': 'United States o...</td>\n",
              "      <td>2/20/15</td>\n",
              "      <td>93.0</td>\n",
              "      <td>[{'iso_639_1': 'en', 'name': 'English'}]</td>\n",
              "      <td>Released</td>\n",
              "      <td>The Laws of Space and Time are About to be Vio...</td>\n",
              "      <td>Hot Tub Time Machine 2</td>\n",
              "      <td>[{'id': 4379, 'name': 'time travel'}, {'id': 9...</td>\n",
              "      <td>[{'cast_id': 4, 'character': 'Lou', 'credit_id...</td>\n",
              "      <td>[{'credit_id': '59ac067c92514107af02c8c8', 'de...</td>\n",
              "      <td>12314651</td>\n",
              "      <td>-1685349</td>\n",
              "      <td>-12.038207</td>\n",
              "    </tr>\n",
              "    <tr>\n",
              "      <th>1</th>\n",
              "      <td>2</td>\n",
              "      <td>[{'id': 107674, 'name': 'The Princess Diaries ...</td>\n",
              "      <td>40000000</td>\n",
              "      <td>[{'id': 35, 'name': 'Comedy'}, {'id': 18, 'nam...</td>\n",
              "      <td>NaN</td>\n",
              "      <td>tt0368933</td>\n",
              "      <td>en</td>\n",
              "      <td>The Princess Diaries 2: Royal Engagement</td>\n",
              "      <td>Mia Thermopolis is now a college graduate and ...</td>\n",
              "      <td>8.248895</td>\n",
              "      <td>/w9Z7A0GHEhIp7etpj0vyKOeU1Wx.jpg</td>\n",
              "      <td>[{'name': 'Walt Disney Pictures', 'id': 2}]</td>\n",
              "      <td>[{'iso_3166_1': 'US', 'name': 'United States o...</td>\n",
              "      <td>8/6/04</td>\n",
              "      <td>113.0</td>\n",
              "      <td>[{'iso_639_1': 'en', 'name': 'English'}]</td>\n",
              "      <td>Released</td>\n",
              "      <td>It can take a lifetime to find true love; she'...</td>\n",
              "      <td>The Princess Diaries 2: Royal Engagement</td>\n",
              "      <td>[{'id': 2505, 'name': 'coronation'}, {'id': 42...</td>\n",
              "      <td>[{'cast_id': 1, 'character': 'Mia Thermopolis'...</td>\n",
              "      <td>[{'credit_id': '52fe43fe9251416c7502563d', 'de...</td>\n",
              "      <td>95149435</td>\n",
              "      <td>55149435</td>\n",
              "      <td>137.873588</td>\n",
              "    </tr>\n",
              "  </tbody>\n",
              "</table>\n",
              "</div>"
            ],
            "text/plain": [
              "   id                              belongs_to_collection  ...    profit         roi\n",
              "0   1  [{'id': 313576, 'name': 'Hot Tub Time Machine ...  ...  -1685349  -12.038207\n",
              "1   2  [{'id': 107674, 'name': 'The Princess Diaries ...  ...  55149435  137.873588\n",
              "\n",
              "[2 rows x 25 columns]"
            ]
          },
          "metadata": {
            "tags": []
          },
          "execution_count": 23
        }
      ]
    },
    {
      "cell_type": "code",
      "metadata": {
        "colab": {
          "base_uri": "https://localhost:8080/"
        },
        "id": "PoW-7fB_NOC_",
        "outputId": "5bfa8623-3c3b-4fd1-fe5d-6d006f330f43"
      },
      "source": [
        "#maximum profit\n",
        "imdb_df_new['profit'].max()"
      ],
      "execution_count": null,
      "outputs": [
        {
          "output_type": "execute_result",
          "data": {
            "text/plain": [
              "1316249360"
            ]
          },
          "metadata": {
            "tags": []
          },
          "execution_count": 24
        }
      ]
    },
    {
      "cell_type": "code",
      "metadata": {
        "colab": {
          "base_uri": "https://localhost:8080/"
        },
        "id": "bZYAsDXNNCJ4",
        "outputId": "aaa5b1a2-bcbf-4772-88ec-84612bf6088e"
      },
      "source": [
        "#find index or row which have the max profit using .idxmax()\n",
        "#.idxmax()-->> returns the row number(index) for the max value of the column \n",
        "imdb_df_new['profit'].idxmax()"
      ],
      "execution_count": null,
      "outputs": [
        {
          "output_type": "execute_result",
          "data": {
            "text/plain": [
              "1761"
            ]
          },
          "metadata": {
            "tags": []
          },
          "execution_count": 25
        }
      ]
    },
    {
      "cell_type": "markdown",
      "metadata": {
        "id": "R-W8Vy_SN_5N"
      },
      "source": [
        "###The movie which made the highest profit is:"
      ]
    },
    {
      "cell_type": "code",
      "metadata": {
        "colab": {
          "base_uri": "https://localhost:8080/",
          "height": 36
        },
        "id": "cO6Dr900NKOc",
        "outputId": "b73044a4-7540-41fa-efaa-64a57c6d6020"
      },
      "source": [
        "imdb_df_new.loc[imdb_df_new['profit'].idxmax(),'original_title']"
      ],
      "execution_count": null,
      "outputs": [
        {
          "output_type": "execute_result",
          "data": {
            "application/vnd.google.colaboratory.intrinsic+json": {
              "type": "string"
            },
            "text/plain": [
              "'Furious 7'"
            ]
          },
          "metadata": {
            "tags": []
          },
          "execution_count": 26
        }
      ]
    },
    {
      "cell_type": "code",
      "metadata": {
        "id": "xi-KWISlORpR"
      },
      "source": [
        "max_profit_movie_df = imdb_df_new.iloc[imdb_df_new['profit'].idxmax()]"
      ],
      "execution_count": null,
      "outputs": []
    },
    {
      "cell_type": "code",
      "metadata": {
        "colab": {
          "base_uri": "https://localhost:8080/"
        },
        "id": "diPoWc4YOl5k",
        "outputId": "286f4550-0bf2-4f77-dce3-547106153e38"
      },
      "source": [
        "\n",
        "max_profit_movie_df.head()"
      ],
      "execution_count": null,
      "outputs": [
        {
          "output_type": "execute_result",
          "data": {
            "text/plain": [
              "id                                                                    1762\n",
              "belongs_to_collection    [{'id': 9485, 'name': 'The Fast and the Furiou...\n",
              "budget                                                           190000000\n",
              "genres                                      [{'id': 28, 'name': 'Action'}]\n",
              "homepage                                          http://www.furious7.com/\n",
              "Name: 1761, dtype: object"
            ]
          },
          "metadata": {
            "tags": []
          },
          "execution_count": 28
        }
      ]
    },
    {
      "cell_type": "code",
      "metadata": {
        "colab": {
          "base_uri": "https://localhost:8080/",
          "height": 36
        },
        "id": "uLbKLpAwOro-",
        "outputId": "77b37a50-3409-4b25-84ac-ac96f22afa26"
      },
      "source": [
        "max_profit_movie_df.loc['cast'][0]['name']"
      ],
      "execution_count": null,
      "outputs": [
        {
          "output_type": "execute_result",
          "data": {
            "application/vnd.google.colaboratory.intrinsic+json": {
              "type": "string"
            },
            "text/plain": [
              "'Vin Diesel'"
            ]
          },
          "metadata": {
            "tags": []
          },
          "execution_count": 29
        }
      ]
    },
    {
      "cell_type": "code",
      "metadata": {
        "colab": {
          "base_uri": "https://localhost:8080/"
        },
        "id": "evPHdk6nOy1Q",
        "outputId": "be7611e6-7f75-49b9-c058-36786aac9b5e"
      },
      "source": [
        "crew_list= max_profit_movie_df.loc['crew']\n",
        "crew_list[0:3]"
      ],
      "execution_count": null,
      "outputs": [
        {
          "output_type": "execute_result",
          "data": {
            "text/plain": [
              "[{'credit_id': '52fe4cc8c3a36847f823e681',\n",
              "  'department': 'Production',\n",
              "  'gender': 2,\n",
              "  'id': 12835,\n",
              "  'job': 'Producer',\n",
              "  'name': 'Vin Diesel',\n",
              "  'profile_path': '/7rwSXluNWZAluYMOEWBxkPmckES.jpg'},\n",
              " {'credit_id': '52fe4cc8c3a36847f823e687',\n",
              "  'department': 'Production',\n",
              "  'gender': 2,\n",
              "  'id': 11874,\n",
              "  'job': 'Producer',\n",
              "  'name': 'Neal H. Moritz',\n",
              "  'profile_path': '/cNcsEYmoS4niCz3UkVAA09dUIob.jpg'},\n",
              " {'credit_id': '52fe4cc8c3a36847f823e68d',\n",
              "  'department': 'Writing',\n",
              "  'gender': 2,\n",
              "  'id': 58191,\n",
              "  'job': 'Writer',\n",
              "  'name': 'Chris Morgan',\n",
              "  'profile_path': '/dUGxIwFBLrSFLImxjeda1krndMO.jpg'}]"
            ]
          },
          "metadata": {
            "tags": []
          },
          "execution_count": 30
        }
      ]
    },
    {
      "cell_type": "markdown",
      "metadata": {
        "id": "mgCnaG_RQWwO"
      },
      "source": [
        "### Name of the director and producer of the movie which made highest profit are:"
      ]
    },
    {
      "cell_type": "code",
      "metadata": {
        "id": "FwcuxP14PTB_"
      },
      "source": [
        "producer_list=[]\n",
        "director_list=[]\n",
        "for elem in crew_list:\n",
        "  if elem['job']=='Producer':\n",
        "    producer_list.append(elem['name'])\n",
        "  if elem['job']=='Director':\n",
        "    director_list.append(elem['name'])\n",
        "  "
      ],
      "execution_count": null,
      "outputs": []
    },
    {
      "cell_type": "code",
      "metadata": {
        "colab": {
          "base_uri": "https://localhost:8080/"
        },
        "id": "uQ0XsTDJQLpZ",
        "outputId": "7986b1bb-5767-4984-b005-97c91035289d"
      },
      "source": [
        "print(f'PRODUCERS : {producer_list}')\n",
        "print(f'DIRECTORS : {director_list}')"
      ],
      "execution_count": null,
      "outputs": [
        {
          "output_type": "stream",
          "text": [
            "PRODUCERS : ['Vin Diesel', 'Neal H. Moritz', 'Michael Fottrell', 'Brandon Birtell']\n",
            "DIRECTORS : ['James Wan']\n"
          ],
          "name": "stdout"
        }
      ]
    },
    {
      "cell_type": "code",
      "metadata": {
        "id": "seCZs6zQS0s-"
      },
      "source": [
        "cast_list =max_profit_movie_df['cast']"
      ],
      "execution_count": null,
      "outputs": []
    },
    {
      "cell_type": "code",
      "metadata": {
        "colab": {
          "base_uri": "https://localhost:8080/"
        },
        "id": "zT9GtfbBS-Z5",
        "outputId": "fe740ea7-0126-438e-b3ee-d6ed52e5f130"
      },
      "source": [
        "cast_list[0:3]"
      ],
      "execution_count": null,
      "outputs": [
        {
          "output_type": "execute_result",
          "data": {
            "text/plain": [
              "[{'cast_id': 17,\n",
              "  'character': 'Dominic Toretto',\n",
              "  'credit_id': '5431dfd10e0a265915002c34',\n",
              "  'gender': 2,\n",
              "  'id': 12835,\n",
              "  'name': 'Vin Diesel',\n",
              "  'order': 0,\n",
              "  'profile_path': '/7rwSXluNWZAluYMOEWBxkPmckES.jpg'},\n",
              " {'cast_id': 19,\n",
              "  'character': \"Brian O'Conner\",\n",
              "  'credit_id': '5431dfe4c3a3681143002b98',\n",
              "  'gender': 2,\n",
              "  'id': 8167,\n",
              "  'name': 'Paul Walker',\n",
              "  'order': 1,\n",
              "  'profile_path': '/iqvYezRoEY5k8wnlfHriHQfl5dX.jpg'},\n",
              " {'cast_id': 18,\n",
              "  'character': 'Hobbs',\n",
              "  'credit_id': '5431dfdbc3a36831a6004376',\n",
              "  'gender': 2,\n",
              "  'id': 18918,\n",
              "  'name': 'Dwayne Johnson',\n",
              "  'order': 2,\n",
              "  'profile_path': '/kuqFzlYMc2IrsOyPznMd1FroeGq.jpg'}]"
            ]
          },
          "metadata": {
            "tags": []
          },
          "execution_count": 34
        }
      ]
    },
    {
      "cell_type": "markdown",
      "metadata": {
        "id": "rWS2-vdATOEN"
      },
      "source": [
        "###Actors in the Highest profit movie"
      ]
    },
    {
      "cell_type": "code",
      "metadata": {
        "id": "-VqvjOWiQvEe"
      },
      "source": [
        "actor_list=[]\n",
        "for elem in cast_list:\n",
        "  actor_list.append(elem['name'])"
      ],
      "execution_count": null,
      "outputs": []
    },
    {
      "cell_type": "code",
      "metadata": {
        "colab": {
          "base_uri": "https://localhost:8080/"
        },
        "id": "_RZi1L9fTTz-",
        "outputId": "4bce63e6-030c-4d50-d203-5f650e45e9e8"
      },
      "source": [
        "#actors\n",
        "print(f'Actors of the movie are :')\n",
        "actor_list"
      ],
      "execution_count": null,
      "outputs": [
        {
          "output_type": "stream",
          "text": [
            "Actors of the movie are :\n"
          ],
          "name": "stdout"
        },
        {
          "output_type": "execute_result",
          "data": {
            "text/plain": [
              "['Vin Diesel',\n",
              " 'Paul Walker',\n",
              " 'Dwayne Johnson',\n",
              " 'Michelle Rodriguez',\n",
              " 'Tyrese Gibson',\n",
              " 'Ludacris',\n",
              " 'Jordana Brewster',\n",
              " 'Djimon Hounsou',\n",
              " 'Tony Jaa',\n",
              " 'Ronda Rousey',\n",
              " 'Nathalie Emmanuel',\n",
              " 'Kurt Russell',\n",
              " 'Jason Statham',\n",
              " 'Sung Kang',\n",
              " 'Gal Gadot',\n",
              " 'Lucas Black',\n",
              " 'Elsa Pataky',\n",
              " 'Noel Gugliemi',\n",
              " 'John Brotherton',\n",
              " 'Luke Evans',\n",
              " 'Ali Fazal',\n",
              " 'Miller Kimsey',\n",
              " 'Charlie Kimsey',\n",
              " 'Eden Estrella',\n",
              " 'Gentry White',\n",
              " 'Iggy Azalea',\n",
              " 'Jon Lee Brody',\n",
              " 'Levy Tran',\n",
              " 'Anna Colwell',\n",
              " 'Viktor Hernandez',\n",
              " 'Steve Coulter',\n",
              " 'Robert Pralgo',\n",
              " 'Antwan Mills',\n",
              " 'J.J. Phillips',\n",
              " 'Jorge Ferragut',\n",
              " 'Sara Sohn',\n",
              " 'Benjamin Blankenship',\n",
              " 'D.J. Hapa',\n",
              " 'T-Pain',\n",
              " 'Brian Mahoney',\n",
              " 'Brittney Alger',\n",
              " 'Romeo Santos',\n",
              " 'Jocelin Donahue',\n",
              " 'Stephanie Langston',\n",
              " 'Jorge-Luis Pallo',\n",
              " 'Tego Calder√≥n',\n",
              " 'Nathalie Kelley',\n",
              " 'Shad Moss',\n",
              " 'Don Omar',\n",
              " 'Klement Tinaj',\n",
              " 'Caleb Walker',\n",
              " 'Cody Walker']"
            ]
          },
          "metadata": {
            "tags": []
          },
          "execution_count": 36
        }
      ]
    },
    {
      "cell_type": "markdown",
      "metadata": {
        "id": "Ew5DHk1-dpdN"
      },
      "source": [
        "####Understanding the groupby function"
      ]
    },
    {
      "cell_type": "code",
      "metadata": {
        "id": "17q3h8p9ey_D"
      },
      "source": [
        "#kn.groupby('Name')['No.'].mean()"
      ],
      "execution_count": null,
      "outputs": []
    },
    {
      "cell_type": "code",
      "metadata": {
        "id": "5tLAU7_MfBIn"
      },
      "source": [
        "#kn.groupby('Name').count()"
      ],
      "execution_count": null,
      "outputs": []
    },
    {
      "cell_type": "markdown",
      "metadata": {
        "id": "inc8DAbJT-4g"
      },
      "source": [
        "#Q2.This data has information about movies made in different languages. Which language has the highest average ROI (return on investment)? "
      ]
    },
    {
      "cell_type": "code",
      "metadata": {
        "id": "tEAU7VkhTkV7"
      },
      "source": [
        " #we already calculated roi above\n",
        " #df['roi'] = 100 * df['profit']/df['budget']\n",
        " "
      ],
      "execution_count": null,
      "outputs": []
    },
    {
      "cell_type": "code",
      "metadata": {
        "colab": {
          "base_uri": "https://localhost:8080/",
          "height": 143
        },
        "id": "YGUFKtdtgvh8",
        "outputId": "6cdd1b68-ec72-4886-a16d-cd50ba8d0cc3"
      },
      "source": [
        "#Use groupby function on movie languages and ROI and finding mean\n",
        "imdb_df_new.groupby('original_language')['roi'].mean().reset_index().sort_values(by='roi',ascending=False).head(3)"
      ],
      "execution_count": null,
      "outputs": [
        {
          "output_type": "execute_result",
          "data": {
            "text/html": [
              "<div>\n",
              "<style scoped>\n",
              "    .dataframe tbody tr th:only-of-type {\n",
              "        vertical-align: middle;\n",
              "    }\n",
              "\n",
              "    .dataframe tbody tr th {\n",
              "        vertical-align: top;\n",
              "    }\n",
              "\n",
              "    .dataframe thead th {\n",
              "        text-align: right;\n",
              "    }\n",
              "</style>\n",
              "<table border=\"1\" class=\"dataframe\">\n",
              "  <thead>\n",
              "    <tr style=\"text-align: right;\">\n",
              "      <th></th>\n",
              "      <th>original_language</th>\n",
              "      <th>roi</th>\n",
              "    </tr>\n",
              "  </thead>\n",
              "  <tbody>\n",
              "    <tr>\n",
              "      <th>18</th>\n",
              "      <td>ko</td>\n",
              "      <td>11309.685605</td>\n",
              "    </tr>\n",
              "    <tr>\n",
              "      <th>6</th>\n",
              "      <td>el</td>\n",
              "      <td>5198.013245</td>\n",
              "    </tr>\n",
              "    <tr>\n",
              "      <th>28</th>\n",
              "      <td>sr</td>\n",
              "      <td>3261.413600</td>\n",
              "    </tr>\n",
              "  </tbody>\n",
              "</table>\n",
              "</div>"
            ],
            "text/plain": [
              "   original_language           roi\n",
              "18                ko  11309.685605\n",
              "6                 el   5198.013245\n",
              "28                sr   3261.413600"
            ]
          },
          "metadata": {
            "tags": []
          },
          "execution_count": 40
        }
      ]
    },
    {
      "cell_type": "code",
      "metadata": {
        "colab": {
          "base_uri": "https://localhost:8080/",
          "height": 54
        },
        "id": "trGPPBeVdcov",
        "outputId": "78c91ce2-8430-4c52-af25-adac70e8733e"
      },
      "source": [
        "\n",
        "print('Language with highest average roi is')\n",
        "imdb_df_new.groupby('original_language')['roi'].mean().reset_index().sort_values(by='roi',ascending=False).iloc[0,0]"
      ],
      "execution_count": null,
      "outputs": [
        {
          "output_type": "stream",
          "text": [
            "Language with highest average roi is\n"
          ],
          "name": "stdout"
        },
        {
          "output_type": "execute_result",
          "data": {
            "application/vnd.google.colaboratory.intrinsic+json": {
              "type": "string"
            },
            "text/plain": [
              "'ko'"
            ]
          },
          "metadata": {
            "tags": []
          },
          "execution_count": 41
        }
      ]
    },
    {
      "cell_type": "markdown",
      "metadata": {
        "id": "hjBNvqcGhOSo"
      },
      "source": [
        "#Q3.Find out the unique genres of movies in this dataset."
      ]
    },
    {
      "cell_type": "code",
      "metadata": {
        "id": "hTH09Nzif2zt"
      },
      "source": [
        "#considering only those rows in genres column which have no null values\n",
        "no_na_genres = imdb_df_new[~imdb_df_new['genres'].isna()]"
      ],
      "execution_count": null,
      "outputs": []
    },
    {
      "cell_type": "code",
      "metadata": {
        "colab": {
          "base_uri": "https://localhost:8080/"
        },
        "id": "aZQc2Om-iTZY",
        "outputId": "279247ab-bdcd-43f1-c48d-abb73725fe5f"
      },
      "source": [
        "len(no_na_genres)"
      ],
      "execution_count": null,
      "outputs": [
        {
          "output_type": "execute_result",
          "data": {
            "text/plain": [
              "2993"
            ]
          },
          "metadata": {
            "tags": []
          },
          "execution_count": 43
        }
      ]
    },
    {
      "cell_type": "code",
      "metadata": {
        "colab": {
          "base_uri": "https://localhost:8080/"
        },
        "id": "LE0hBlRViVmT",
        "outputId": "972aef62-0b26-42a7-cd3d-d0919de643f9"
      },
      "source": [
        "no_na_genres.loc[0,'genres']"
      ],
      "execution_count": null,
      "outputs": [
        {
          "output_type": "execute_result",
          "data": {
            "text/plain": [
              "[{'id': 35, 'name': 'Comedy'}]"
            ]
          },
          "metadata": {
            "tags": []
          },
          "execution_count": 44
        }
      ]
    },
    {
      "cell_type": "code",
      "metadata": {
        "colab": {
          "base_uri": "https://localhost:8080/"
        },
        "id": "aRiJdnbYmoFU",
        "outputId": "8c5460e8-b522-436f-c94e-9444dd9ead0e"
      },
      "source": [
        "no_na_genres.loc[0,'genres'][0]"
      ],
      "execution_count": null,
      "outputs": [
        {
          "output_type": "execute_result",
          "data": {
            "text/plain": [
              "{'id': 35, 'name': 'Comedy'}"
            ]
          },
          "metadata": {
            "tags": []
          },
          "execution_count": 45
        }
      ]
    },
    {
      "cell_type": "code",
      "metadata": {
        "colab": {
          "base_uri": "https://localhost:8080/"
        },
        "id": "WwjWk_mRpAcC",
        "outputId": "c6a9c0ba-1b60-4b8b-9f54-5ba480c08534"
      },
      "source": [
        "no_na_genres.loc[3,'genres']"
      ],
      "execution_count": null,
      "outputs": [
        {
          "output_type": "execute_result",
          "data": {
            "text/plain": [
              "[{'id': 53, 'name': 'Thriller'}, {'id': 18, 'name': 'Drama'}]"
            ]
          },
          "metadata": {
            "tags": []
          },
          "execution_count": 46
        }
      ]
    },
    {
      "cell_type": "code",
      "metadata": {
        "colab": {
          "base_uri": "https://localhost:8080/",
          "height": 677
        },
        "id": "1Kjg1zDGj_fK",
        "outputId": "b7f0f213-cf9e-486e-8243-ab85cdcafbe6"
      },
      "source": [
        "#create a list of genres and using .iterrow() method to iterate over genres column \n",
        "# .iterrow() --->> same as enumerate() its compulsory to use it in case of DataFrame\n",
        "gen_list=[]\n",
        "for index,row in no_na_genres.iterrows():\n",
        "  genre = no_na_genres.loc[index,'genres']\n",
        "  for k in genre:\n",
        "    gen_list.append(k['name'])\n",
        "  \n",
        "#unique list of genres are:\n",
        "pd.DataFrame(set(gen_list),columns=['Unique Genres'])\n",
        "\n",
        "  \n"
      ],
      "execution_count": null,
      "outputs": [
        {
          "output_type": "execute_result",
          "data": {
            "text/html": [
              "<div>\n",
              "<style scoped>\n",
              "    .dataframe tbody tr th:only-of-type {\n",
              "        vertical-align: middle;\n",
              "    }\n",
              "\n",
              "    .dataframe tbody tr th {\n",
              "        vertical-align: top;\n",
              "    }\n",
              "\n",
              "    .dataframe thead th {\n",
              "        text-align: right;\n",
              "    }\n",
              "</style>\n",
              "<table border=\"1\" class=\"dataframe\">\n",
              "  <thead>\n",
              "    <tr style=\"text-align: right;\">\n",
              "      <th></th>\n",
              "      <th>Unique Genres</th>\n",
              "    </tr>\n",
              "  </thead>\n",
              "  <tbody>\n",
              "    <tr>\n",
              "      <th>0</th>\n",
              "      <td>Mystery</td>\n",
              "    </tr>\n",
              "    <tr>\n",
              "      <th>1</th>\n",
              "      <td>TV Movie</td>\n",
              "    </tr>\n",
              "    <tr>\n",
              "      <th>2</th>\n",
              "      <td>Animation</td>\n",
              "    </tr>\n",
              "    <tr>\n",
              "      <th>3</th>\n",
              "      <td>War</td>\n",
              "    </tr>\n",
              "    <tr>\n",
              "      <th>4</th>\n",
              "      <td>Documentary</td>\n",
              "    </tr>\n",
              "    <tr>\n",
              "      <th>5</th>\n",
              "      <td>Science Fiction</td>\n",
              "    </tr>\n",
              "    <tr>\n",
              "      <th>6</th>\n",
              "      <td>Drama</td>\n",
              "    </tr>\n",
              "    <tr>\n",
              "      <th>7</th>\n",
              "      <td>Comedy</td>\n",
              "    </tr>\n",
              "    <tr>\n",
              "      <th>8</th>\n",
              "      <td>Thriller</td>\n",
              "    </tr>\n",
              "    <tr>\n",
              "      <th>9</th>\n",
              "      <td>Action</td>\n",
              "    </tr>\n",
              "    <tr>\n",
              "      <th>10</th>\n",
              "      <td>History</td>\n",
              "    </tr>\n",
              "    <tr>\n",
              "      <th>11</th>\n",
              "      <td>Music</td>\n",
              "    </tr>\n",
              "    <tr>\n",
              "      <th>12</th>\n",
              "      <td>Crime</td>\n",
              "    </tr>\n",
              "    <tr>\n",
              "      <th>13</th>\n",
              "      <td>Adventure</td>\n",
              "    </tr>\n",
              "    <tr>\n",
              "      <th>14</th>\n",
              "      <td>Romance</td>\n",
              "    </tr>\n",
              "    <tr>\n",
              "      <th>15</th>\n",
              "      <td>Fantasy</td>\n",
              "    </tr>\n",
              "    <tr>\n",
              "      <th>16</th>\n",
              "      <td>Foreign</td>\n",
              "    </tr>\n",
              "    <tr>\n",
              "      <th>17</th>\n",
              "      <td>Family</td>\n",
              "    </tr>\n",
              "    <tr>\n",
              "      <th>18</th>\n",
              "      <td>Western</td>\n",
              "    </tr>\n",
              "    <tr>\n",
              "      <th>19</th>\n",
              "      <td>Horror</td>\n",
              "    </tr>\n",
              "  </tbody>\n",
              "</table>\n",
              "</div>"
            ],
            "text/plain": [
              "      Unique Genres\n",
              "0           Mystery\n",
              "1          TV Movie\n",
              "2         Animation\n",
              "3               War\n",
              "4       Documentary\n",
              "5   Science Fiction\n",
              "6             Drama\n",
              "7            Comedy\n",
              "8          Thriller\n",
              "9            Action\n",
              "10          History\n",
              "11            Music\n",
              "12            Crime\n",
              "13        Adventure\n",
              "14          Romance\n",
              "15          Fantasy\n",
              "16          Foreign\n",
              "17           Family\n",
              "18          Western\n",
              "19           Horror"
            ]
          },
          "metadata": {
            "tags": []
          },
          "execution_count": 47
        }
      ]
    },
    {
      "cell_type": "markdown",
      "metadata": {
        "id": "veQ7_2mCvkVH"
      },
      "source": [
        "#Q4.Make a table of all the producers and directors of each movie. Find the top 3 producers who have produced movies with the highest average RoI? "
      ]
    },
    {
      "cell_type": "code",
      "metadata": {
        "id": "Cht1r0YOG0vu"
      },
      "source": [
        "#considering only those rows in crew column which have no null values\n",
        "no_na_crew = imdb_df_new[~imdb_df_new['crew'].isna()]"
      ],
      "execution_count": null,
      "outputs": []
    },
    {
      "cell_type": "code",
      "metadata": {
        "colab": {
          "base_uri": "https://localhost:8080/"
        },
        "id": "BGQVkm10G7Ud",
        "outputId": "cdd20aba-1edb-4d43-f68d-eed556b5a9ae"
      },
      "source": [
        "no_na_crew.shape"
      ],
      "execution_count": null,
      "outputs": [
        {
          "output_type": "execute_result",
          "data": {
            "text/plain": [
              "(2984, 25)"
            ]
          },
          "metadata": {
            "tags": []
          },
          "execution_count": 49
        }
      ]
    },
    {
      "cell_type": "code",
      "metadata": {
        "id": "1mtwl2dd_T5e"
      },
      "source": [
        "#A simple function to extract list of all producers for a given movie_index\n",
        "def create_producer_list(index):\n",
        "  movie_index = no_na_crew.iloc[index]\n",
        "  crew_list= movie_index.loc['crew']\n",
        "  producer_list=[]\n",
        "  for elem in crew_list:\n",
        "     if elem['job']=='Producer':\n",
        "        producer_list.append(elem['name'])\n",
        "  return producer_list"
      ],
      "execution_count": null,
      "outputs": []
    },
    {
      "cell_type": "code",
      "metadata": {
        "colab": {
          "base_uri": "https://localhost:8080/"
        },
        "id": "c6WLgxZHAcCd",
        "outputId": "a8f042a5-ac6a-49c6-edca-e25e9afc64ef"
      },
      "source": [
        "create_producer_list(61)"
      ],
      "execution_count": null,
      "outputs": [
        {
          "output_type": "execute_result",
          "data": {
            "text/plain": [
              "['James Hill']"
            ]
          },
          "metadata": {
            "tags": []
          },
          "execution_count": 51
        }
      ]
    },
    {
      "cell_type": "code",
      "metadata": {
        "id": "5qQvmlE3AJJu"
      },
      "source": [
        "#A simple function to extract names of all directors for a given movie_index\n",
        "#each movie has only one director\n",
        "def create_director(index):\n",
        "  movie_index = no_na_crew.iloc[index]\n",
        "  crew_list= movie_index.loc['crew']\n",
        "\n",
        "  for elem in crew_list:\n",
        "     if elem['job']=='Director':\n",
        "        return elem['name']"
      ],
      "execution_count": null,
      "outputs": []
    },
    {
      "cell_type": "code",
      "metadata": {
        "colab": {
          "base_uri": "https://localhost:8080/",
          "height": 36
        },
        "id": "mqUZsXla_5vG",
        "outputId": "bbd05e42-7fb6-4aea-c51e-5614676b259b"
      },
      "source": [
        "create_director(61)"
      ],
      "execution_count": null,
      "outputs": [
        {
          "output_type": "execute_result",
          "data": {
            "application/vnd.google.colaboratory.intrinsic+json": {
              "type": "string"
            },
            "text/plain": [
              "'Carol Reed'"
            ]
          },
          "metadata": {
            "tags": []
          },
          "execution_count": 53
        }
      ]
    },
    {
      "cell_type": "code",
      "metadata": {
        "id": "xK5DuQ7cydPM"
      },
      "source": [
        "#create a empty DataFrame with required Column names in which we will append data later\n",
        "Table = pd.DataFrame(columns=['Movie Title','Producers','Directors','ROI'])"
      ],
      "execution_count": null,
      "outputs": []
    },
    {
      "cell_type": "markdown",
      "metadata": {
        "id": "n1Es67sHLMfM"
      },
      "source": [
        "####appending in Table Df and using Try Except block to bypass error because some values of the crew dictionaries contain float as value\n",
        "\n"
      ]
    },
    {
      "cell_type": "code",
      "metadata": {
        "id": "B8SihNaDxtP4"
      },
      "source": [
        "for index,row in no_na_crew.iterrows():\n",
        "  \n",
        "  try:\n",
        "      Table = Table.append({'Movie Title':no_na_crew.loc[index,'original_title'],'Producers':create_producer_list(index),'Directors':create_director(index),'ROI':no_na_crew.loc[index,'roi']},ignore_index=True)\n",
        "  except:\n",
        "    continue\n",
        "    \n"
      ],
      "execution_count": null,
      "outputs": []
    },
    {
      "cell_type": "markdown",
      "metadata": {
        "id": "P7BBzlEr1dDf"
      },
      "source": [
        "###Table containing columns of Movie Title,its Producers\n",
        "###,Directors and ROI"
      ]
    },
    {
      "cell_type": "code",
      "metadata": {
        "id": "J1oQJzFK8tPy",
        "colab": {
          "base_uri": "https://localhost:8080/",
          "height": 363
        },
        "outputId": "6d2e242e-7d65-43eb-c515-f8c83334ba17"
      },
      "source": [
        "Table.head(10)"
      ],
      "execution_count": null,
      "outputs": [
        {
          "output_type": "execute_result",
          "data": {
            "text/html": [
              "<div>\n",
              "<style scoped>\n",
              "    .dataframe tbody tr th:only-of-type {\n",
              "        vertical-align: middle;\n",
              "    }\n",
              "\n",
              "    .dataframe tbody tr th {\n",
              "        vertical-align: top;\n",
              "    }\n",
              "\n",
              "    .dataframe thead th {\n",
              "        text-align: right;\n",
              "    }\n",
              "</style>\n",
              "<table border=\"1\" class=\"dataframe\">\n",
              "  <thead>\n",
              "    <tr style=\"text-align: right;\">\n",
              "      <th></th>\n",
              "      <th>Movie Title</th>\n",
              "      <th>Producers</th>\n",
              "      <th>Directors</th>\n",
              "      <th>ROI</th>\n",
              "    </tr>\n",
              "  </thead>\n",
              "  <tbody>\n",
              "    <tr>\n",
              "      <th>0</th>\n",
              "      <td>Hot Tub Time Machine 2</td>\n",
              "      <td>[Andrew Panay]</td>\n",
              "      <td>Steve Pink</td>\n",
              "      <td>-12.038207</td>\n",
              "    </tr>\n",
              "    <tr>\n",
              "      <th>1</th>\n",
              "      <td>The Princess Diaries 2: Royal Engagement</td>\n",
              "      <td>[Whitney Houston, Mario Iscovich, Debra Martin...</td>\n",
              "      <td>Garry Marshall</td>\n",
              "      <td>137.873588</td>\n",
              "    </tr>\n",
              "    <tr>\n",
              "      <th>2</th>\n",
              "      <td>Whiplash</td>\n",
              "      <td>[David Lancaster, Michel Litvak, Jason Blum, H...</td>\n",
              "      <td>Damien Chazelle</td>\n",
              "      <td>296.727273</td>\n",
              "    </tr>\n",
              "    <tr>\n",
              "      <th>3</th>\n",
              "      <td>Kahaani</td>\n",
              "      <td>[Sujoy Ghosh]</td>\n",
              "      <td>Sujoy Ghosh</td>\n",
              "      <td>1233.333333</td>\n",
              "    </tr>\n",
              "    <tr>\n",
              "      <th>4</th>\n",
              "      <td>마린보이</td>\n",
              "      <td>[]</td>\n",
              "      <td>Jong-seok Yoon</td>\n",
              "      <td>-50.950375</td>\n",
              "    </tr>\n",
              "    <tr>\n",
              "      <th>5</th>\n",
              "      <td>Pinocchio and the Emperor of the Night</td>\n",
              "      <td>[]</td>\n",
              "      <td>Hal Sutherland</td>\n",
              "      <td>-59.229525</td>\n",
              "    </tr>\n",
              "    <tr>\n",
              "      <th>6</th>\n",
              "      <td>The Possession</td>\n",
              "      <td>[]</td>\n",
              "      <td>Ole Bornedal</td>\n",
              "      <td>510.329107</td>\n",
              "    </tr>\n",
              "    <tr>\n",
              "      <th>7</th>\n",
              "      <td>Control Room</td>\n",
              "      <td>[]</td>\n",
              "      <td>Jehane Noujaim</td>\n",
              "      <td>-67.668613</td>\n",
              "    </tr>\n",
              "    <tr>\n",
              "      <th>8</th>\n",
              "      <td>Muppet Treasure Island</td>\n",
              "      <td>[Frank Oz, Brian Henson]</td>\n",
              "      <td>Brian Henson</td>\n",
              "      <td>329.092387</td>\n",
              "    </tr>\n",
              "    <tr>\n",
              "      <th>9</th>\n",
              "      <td>A Mighty Wind</td>\n",
              "      <td>[Karen Murphy]</td>\n",
              "      <td>Christopher Guest</td>\n",
              "      <td>212.504100</td>\n",
              "    </tr>\n",
              "  </tbody>\n",
              "</table>\n",
              "</div>"
            ],
            "text/plain": [
              "                                Movie Title  ...          ROI\n",
              "0                    Hot Tub Time Machine 2  ...   -12.038207\n",
              "1  The Princess Diaries 2: Royal Engagement  ...   137.873588\n",
              "2                                  Whiplash  ...   296.727273\n",
              "3                                   Kahaani  ...  1233.333333\n",
              "4                                      마린보이  ...   -50.950375\n",
              "5    Pinocchio and the Emperor of the Night  ...   -59.229525\n",
              "6                            The Possession  ...   510.329107\n",
              "7                              Control Room  ...   -67.668613\n",
              "8                    Muppet Treasure Island  ...   329.092387\n",
              "9                             A Mighty Wind  ...   212.504100\n",
              "\n",
              "[10 rows x 4 columns]"
            ]
          },
          "metadata": {
            "tags": []
          },
          "execution_count": 56
        }
      ]
    },
    {
      "cell_type": "markdown",
      "metadata": {
        "id": "UObHTK-sLnzW"
      },
      "source": [
        "#Q5.Which actor has acted in the most number of movies? Deep dive into the movies, genres and profits corresponding to this actor. "
      ]
    },
    {
      "cell_type": "code",
      "metadata": {
        "id": "9vHAX3nrk342"
      },
      "source": [
        "#considering only those rows in cast column which have no null values\n",
        "no_na_cast = imdb_df_new[~imdb_df_new['cast'].isna()]"
      ],
      "execution_count": null,
      "outputs": []
    },
    {
      "cell_type": "code",
      "metadata": {
        "colab": {
          "base_uri": "https://localhost:8080/",
          "height": 36
        },
        "id": "lH0ViTQMmUyL",
        "outputId": "8c409fac-007f-41bc-c1a7-5488c0097565"
      },
      "source": [
        "no_na_cast.loc[0,'cast'][0]['name']"
      ],
      "execution_count": null,
      "outputs": [
        {
          "output_type": "execute_result",
          "data": {
            "application/vnd.google.colaboratory.intrinsic+json": {
              "type": "string"
            },
            "text/plain": [
              "'Rob Corddry'"
            ]
          },
          "metadata": {
            "tags": []
          },
          "execution_count": 58
        }
      ]
    },
    {
      "cell_type": "code",
      "metadata": {
        "id": "So6XWHnM5pbG"
      },
      "source": [
        "actor_list=[]\n",
        "for index,row in no_na_cast.iterrows():\n",
        "  for iter in no_na_cast.loc[index,'cast']:\n",
        "    if type(iter)== dict:\n",
        "      actor= iter['name']\n",
        "      actor_list.append(actor)"
      ],
      "execution_count": null,
      "outputs": []
    },
    {
      "cell_type": "code",
      "metadata": {
        "id": "ufsi-gA5m6iR"
      },
      "source": [
        "#create a  DataFrame with actor list \n",
        "Actor_Table = pd.DataFrame(actor_list,columns=['Name of Actor'])"
      ],
      "execution_count": null,
      "outputs": []
    },
    {
      "cell_type": "code",
      "metadata": {
        "colab": {
          "base_uri": "https://localhost:8080/"
        },
        "id": "rmfNurFl3qM-",
        "outputId": "d8424e0a-cc2b-476c-b724-687ccade336d"
      },
      "source": [
        "Actor_Table.shape"
      ],
      "execution_count": null,
      "outputs": [
        {
          "output_type": "execute_result",
          "data": {
            "text/plain": [
              "(61811, 1)"
            ]
          },
          "metadata": {
            "tags": []
          },
          "execution_count": 90
        }
      ]
    },
    {
      "cell_type": "code",
      "metadata": {
        "colab": {
          "base_uri": "https://localhost:8080/",
          "height": 206
        },
        "id": "bpq4MYwFoQ2C",
        "outputId": "a84f9a1b-38f1-410e-bcc1-51ae73ea8f00"
      },
      "source": [
        "Actor_Table.head()"
      ],
      "execution_count": null,
      "outputs": [
        {
          "output_type": "execute_result",
          "data": {
            "text/html": [
              "<div>\n",
              "<style scoped>\n",
              "    .dataframe tbody tr th:only-of-type {\n",
              "        vertical-align: middle;\n",
              "    }\n",
              "\n",
              "    .dataframe tbody tr th {\n",
              "        vertical-align: top;\n",
              "    }\n",
              "\n",
              "    .dataframe thead th {\n",
              "        text-align: right;\n",
              "    }\n",
              "</style>\n",
              "<table border=\"1\" class=\"dataframe\">\n",
              "  <thead>\n",
              "    <tr style=\"text-align: right;\">\n",
              "      <th></th>\n",
              "      <th>Name of Actor</th>\n",
              "    </tr>\n",
              "  </thead>\n",
              "  <tbody>\n",
              "    <tr>\n",
              "      <th>0</th>\n",
              "      <td>Rob Corddry</td>\n",
              "    </tr>\n",
              "    <tr>\n",
              "      <th>1</th>\n",
              "      <td>Craig Robinson</td>\n",
              "    </tr>\n",
              "    <tr>\n",
              "      <th>2</th>\n",
              "      <td>Clark Duke</td>\n",
              "    </tr>\n",
              "    <tr>\n",
              "      <th>3</th>\n",
              "      <td>Adam Scott</td>\n",
              "    </tr>\n",
              "    <tr>\n",
              "      <th>4</th>\n",
              "      <td>Chevy Chase</td>\n",
              "    </tr>\n",
              "  </tbody>\n",
              "</table>\n",
              "</div>"
            ],
            "text/plain": [
              "    Name of Actor\n",
              "0     Rob Corddry\n",
              "1  Craig Robinson\n",
              "2      Clark Duke\n",
              "3      Adam Scott\n",
              "4     Chevy Chase"
            ]
          },
          "metadata": {
            "tags": []
          },
          "execution_count": 91
        }
      ]
    },
    {
      "cell_type": "code",
      "metadata": {
        "colab": {
          "base_uri": "https://localhost:8080/",
          "height": 206
        },
        "id": "IbEbeBp_ol7A",
        "outputId": "02b548ff-90d6-492b-9a14-ba2500042c42"
      },
      "source": [
        "#sorting the actors using groupby function\n",
        "Actor_Table.value_counts().reset_index().head()"
      ],
      "execution_count": null,
      "outputs": [
        {
          "output_type": "execute_result",
          "data": {
            "text/html": [
              "<div>\n",
              "<style scoped>\n",
              "    .dataframe tbody tr th:only-of-type {\n",
              "        vertical-align: middle;\n",
              "    }\n",
              "\n",
              "    .dataframe tbody tr th {\n",
              "        vertical-align: top;\n",
              "    }\n",
              "\n",
              "    .dataframe thead th {\n",
              "        text-align: right;\n",
              "    }\n",
              "</style>\n",
              "<table border=\"1\" class=\"dataframe\">\n",
              "  <thead>\n",
              "    <tr style=\"text-align: right;\">\n",
              "      <th></th>\n",
              "      <th>Name of Actor</th>\n",
              "      <th>0</th>\n",
              "    </tr>\n",
              "  </thead>\n",
              "  <tbody>\n",
              "    <tr>\n",
              "      <th>0</th>\n",
              "      <td>Samuel L. Jackson</td>\n",
              "      <td>30</td>\n",
              "    </tr>\n",
              "    <tr>\n",
              "      <th>1</th>\n",
              "      <td>Robert De Niro</td>\n",
              "      <td>30</td>\n",
              "    </tr>\n",
              "    <tr>\n",
              "      <th>2</th>\n",
              "      <td>Morgan Freeman</td>\n",
              "      <td>27</td>\n",
              "    </tr>\n",
              "    <tr>\n",
              "      <th>3</th>\n",
              "      <td>Susan Sarandon</td>\n",
              "      <td>25</td>\n",
              "    </tr>\n",
              "    <tr>\n",
              "      <th>4</th>\n",
              "      <td>J.K. Simmons</td>\n",
              "      <td>25</td>\n",
              "    </tr>\n",
              "  </tbody>\n",
              "</table>\n",
              "</div>"
            ],
            "text/plain": [
              "       Name of Actor   0\n",
              "0  Samuel L. Jackson  30\n",
              "1     Robert De Niro  30\n",
              "2     Morgan Freeman  27\n",
              "3     Susan Sarandon  25\n",
              "4       J.K. Simmons  25"
            ]
          },
          "metadata": {
            "tags": []
          },
          "execution_count": 97
        }
      ]
    },
    {
      "cell_type": "markdown",
      "metadata": {
        "id": "4PIcZB_IEDsC"
      },
      "source": [
        "###Actors who have done maximum movies are:\n"
      ]
    },
    {
      "cell_type": "code",
      "metadata": {
        "colab": {
          "base_uri": "https://localhost:8080/"
        },
        "id": "tgVrOwW7EDYL",
        "outputId": "ab0f1c7d-9d30-4391-b0cb-29328156c1a7"
      },
      "source": [
        "print('Samuel L. Jackson and Robert De Niro both have done 30 films')"
      ],
      "execution_count": null,
      "outputs": [
        {
          "output_type": "stream",
          "text": [
            "Samuel L. Jackson and Robert De Niro both have done 30 films\n"
          ],
          "name": "stdout"
        }
      ]
    },
    {
      "cell_type": "code",
      "metadata": {
        "id": "bE2quFSCEzvE"
      },
      "source": [
        "profit1=[]\n",
        "profit2=[]\n",
        "movie1=[]\n",
        "movie2=[]\n",
        "for index,row in no_na_cast.iterrows():\n",
        "  for iter in no_na_cast.loc[index,'cast']:\n",
        "    if type(iter)== dict:\n",
        "      actor= iter['name']\n",
        "      if 'Robert De Niro' in actor:\n",
        "        profit1.append(no_na_cast.loc[index,'profit'])\n",
        "        movie1.append(no_na_cast.loc[index,'original_title'])          \n",
        "\n",
        "      if 'Samuel L. Jackson' in actor:\n",
        "        profit2.append(no_na_cast.loc[index,'profit'])\n",
        "        movie2.append(no_na_cast.loc[index,'original_title'])"
      ],
      "execution_count": null,
      "outputs": []
    },
    {
      "cell_type": "code",
      "metadata": {
        "id": "ktprAba4I8hF"
      },
      "source": [
        "#creating a loop to get the genres for Robert and Samuel\n",
        "gener_r=[]\n",
        "a=[]\n",
        "for i in range(len(movie1)):\n",
        "  for g in no_na_cast.loc[i,'genres']:\n",
        "    a.append(g['name'])\n",
        "    \n",
        "  gener_r.append(a)\n",
        "  a=[]\n",
        "\n",
        "gener_s=[]\n",
        "b=[]\n",
        "for i in range(len(movie2)):\n",
        "  for g in no_na_cast.loc[i,'genres']:\n",
        "    b.append(g['name'])\n",
        "    \n",
        "  gener_s.append(b)\n",
        "  b=[]\n",
        "\n"
      ],
      "execution_count": null,
      "outputs": []
    },
    {
      "cell_type": "code",
      "metadata": {
        "colab": {
          "base_uri": "https://localhost:8080/"
        },
        "id": "BDfY_vLyJxYF",
        "outputId": "e660d334-c50e-4e8f-85f0-5cc3034d779e"
      },
      "source": [
        "genr = np.array(gener_r)\n",
        "gens = np.array(gener_s)"
      ],
      "execution_count": null,
      "outputs": [
        {
          "output_type": "stream",
          "text": [
            "/usr/local/lib/python3.6/dist-packages/ipykernel_launcher.py:1: VisibleDeprecationWarning: Creating an ndarray from ragged nested sequences (which is a list-or-tuple of lists-or-tuples-or ndarrays with different lengths or shapes) is deprecated. If you meant to do this, you must specify 'dtype=object' when creating the ndarray\n",
            "  \"\"\"Entry point for launching an IPython kernel.\n",
            "/usr/local/lib/python3.6/dist-packages/ipykernel_launcher.py:2: VisibleDeprecationWarning: Creating an ndarray from ragged nested sequences (which is a list-or-tuple of lists-or-tuples-or ndarrays with different lengths or shapes) is deprecated. If you meant to do this, you must specify 'dtype=object' when creating the ndarray\n",
            "  \n"
          ],
          "name": "stderr"
        }
      ]
    },
    {
      "cell_type": "code",
      "metadata": {
        "id": "LWfvTXs_GqPY"
      },
      "source": [
        "#creating sub dataframe for Robert\n",
        "mov1= pd.DataFrame(movie1,columns=['Movie Name'])\n",
        "prof1=pd.DataFrame(profit1,columns=['Movie Profit'])\n",
        "gen1= pd.DataFrame(genr.flatten(),columns=['Genres'])"
      ],
      "execution_count": null,
      "outputs": []
    },
    {
      "cell_type": "code",
      "metadata": {
        "id": "SZSejFsZGCPa"
      },
      "source": [
        "Movies_by_Robert=pd.concat([mov1,gen1,prof1],axis=1)"
      ],
      "execution_count": null,
      "outputs": []
    },
    {
      "cell_type": "markdown",
      "metadata": {
        "id": "EZdGnSzLK83j"
      },
      "source": [
        "##Movies by Robert De Niro"
      ]
    },
    {
      "cell_type": "code",
      "metadata": {
        "colab": {
          "base_uri": "https://localhost:8080/",
          "height": 206
        },
        "id": "4FcslpR8GSQy",
        "outputId": "a5ce9457-eccd-4f04-d0a7-cfbae1ad27c6"
      },
      "source": [
        "Movies_by_Robert.sort_values(by='Movie Profit',ascending=False).head()"
      ],
      "execution_count": null,
      "outputs": [
        {
          "output_type": "execute_result",
          "data": {
            "text/html": [
              "<div>\n",
              "<style scoped>\n",
              "    .dataframe tbody tr th:only-of-type {\n",
              "        vertical-align: middle;\n",
              "    }\n",
              "\n",
              "    .dataframe tbody tr th {\n",
              "        vertical-align: top;\n",
              "    }\n",
              "\n",
              "    .dataframe thead th {\n",
              "        text-align: right;\n",
              "    }\n",
              "</style>\n",
              "<table border=\"1\" class=\"dataframe\">\n",
              "  <thead>\n",
              "    <tr style=\"text-align: right;\">\n",
              "      <th></th>\n",
              "      <th>Movie Name</th>\n",
              "      <th>Genres</th>\n",
              "      <th>Movie Profit</th>\n",
              "    </tr>\n",
              "  </thead>\n",
              "  <tbody>\n",
              "    <tr>\n",
              "      <th>8</th>\n",
              "      <td>Meet the Parents</td>\n",
              "      <td>[Action, Comedy, Music, Family, Adventure]</td>\n",
              "      <td>275444045</td>\n",
              "    </tr>\n",
              "    <tr>\n",
              "      <th>16</th>\n",
              "      <td>American Hustle</td>\n",
              "      <td>[Horror, Thriller]</td>\n",
              "      <td>211171807</td>\n",
              "    </tr>\n",
              "    <tr>\n",
              "      <th>10</th>\n",
              "      <td>Sleepers</td>\n",
              "      <td>[Drama]</td>\n",
              "      <td>121615285</td>\n",
              "    </tr>\n",
              "    <tr>\n",
              "      <th>26</th>\n",
              "      <td>Analyze This</td>\n",
              "      <td>[Crime, Drama, Mystery, Thriller]</td>\n",
              "      <td>96885658</td>\n",
              "    </tr>\n",
              "    <tr>\n",
              "      <th>29</th>\n",
              "      <td>Backdraft</td>\n",
              "      <td>[Action, Adventure, Crime, Thriller]</td>\n",
              "      <td>77368585</td>\n",
              "    </tr>\n",
              "  </tbody>\n",
              "</table>\n",
              "</div>"
            ],
            "text/plain": [
              "          Movie Name                                      Genres  Movie Profit\n",
              "8   Meet the Parents  [Action, Comedy, Music, Family, Adventure]     275444045\n",
              "16   American Hustle                          [Horror, Thriller]     211171807\n",
              "10          Sleepers                                     [Drama]     121615285\n",
              "26      Analyze This           [Crime, Drama, Mystery, Thriller]      96885658\n",
              "29         Backdraft        [Action, Adventure, Crime, Thriller]      77368585"
            ]
          },
          "metadata": {
            "tags": []
          },
          "execution_count": 146
        }
      ]
    },
    {
      "cell_type": "code",
      "metadata": {
        "id": "lw3qNBZmKQFP"
      },
      "source": [
        "#creating sub dataframe for Samuel\n",
        "mov2= pd.DataFrame(movie2,columns=['Movie Name'])\n",
        "prof2=pd.DataFrame(profit2,columns=['Movie Profit'])\n",
        "gen2= pd.DataFrame(gens.flatten(),columns=['Genres'])"
      ],
      "execution_count": null,
      "outputs": []
    },
    {
      "cell_type": "code",
      "metadata": {
        "id": "UPrvBWSpKbGY"
      },
      "source": [
        "Movies_by_Samuel=pd.concat([mov1,gen1,prof1],axis=1)"
      ],
      "execution_count": null,
      "outputs": []
    },
    {
      "cell_type": "markdown",
      "metadata": {
        "id": "MVWIhdtpLBW-"
      },
      "source": [
        "###Movies by Samuel L jackson"
      ]
    },
    {
      "cell_type": "code",
      "metadata": {
        "colab": {
          "base_uri": "https://localhost:8080/",
          "height": 206
        },
        "id": "v5wLJfbbKeHg",
        "outputId": "b81011e7-bd21-4627-9424-d05e74b062ab"
      },
      "source": [
        "Movies_by_Samuel.sort_values(by='Movie Profit',ascending=False).head()"
      ],
      "execution_count": null,
      "outputs": [
        {
          "output_type": "execute_result",
          "data": {
            "text/html": [
              "<div>\n",
              "<style scoped>\n",
              "    .dataframe tbody tr th:only-of-type {\n",
              "        vertical-align: middle;\n",
              "    }\n",
              "\n",
              "    .dataframe tbody tr th {\n",
              "        vertical-align: top;\n",
              "    }\n",
              "\n",
              "    .dataframe thead th {\n",
              "        text-align: right;\n",
              "    }\n",
              "</style>\n",
              "<table border=\"1\" class=\"dataframe\">\n",
              "  <thead>\n",
              "    <tr style=\"text-align: right;\">\n",
              "      <th></th>\n",
              "      <th>Movie Name</th>\n",
              "      <th>Genres</th>\n",
              "      <th>Movie Profit</th>\n",
              "    </tr>\n",
              "  </thead>\n",
              "  <tbody>\n",
              "    <tr>\n",
              "      <th>8</th>\n",
              "      <td>Meet the Parents</td>\n",
              "      <td>[Action, Comedy, Music, Family, Adventure]</td>\n",
              "      <td>275444045</td>\n",
              "    </tr>\n",
              "    <tr>\n",
              "      <th>16</th>\n",
              "      <td>American Hustle</td>\n",
              "      <td>[Horror, Thriller]</td>\n",
              "      <td>211171807</td>\n",
              "    </tr>\n",
              "    <tr>\n",
              "      <th>10</th>\n",
              "      <td>Sleepers</td>\n",
              "      <td>[Drama]</td>\n",
              "      <td>121615285</td>\n",
              "    </tr>\n",
              "    <tr>\n",
              "      <th>26</th>\n",
              "      <td>Analyze This</td>\n",
              "      <td>[Crime, Drama, Mystery, Thriller]</td>\n",
              "      <td>96885658</td>\n",
              "    </tr>\n",
              "    <tr>\n",
              "      <th>29</th>\n",
              "      <td>Backdraft</td>\n",
              "      <td>[Action, Adventure, Crime, Thriller]</td>\n",
              "      <td>77368585</td>\n",
              "    </tr>\n",
              "  </tbody>\n",
              "</table>\n",
              "</div>"
            ],
            "text/plain": [
              "          Movie Name                                      Genres  Movie Profit\n",
              "8   Meet the Parents  [Action, Comedy, Music, Family, Adventure]     275444045\n",
              "16   American Hustle                          [Horror, Thriller]     211171807\n",
              "10          Sleepers                                     [Drama]     121615285\n",
              "26      Analyze This           [Crime, Drama, Mystery, Thriller]      96885658\n",
              "29         Backdraft        [Action, Adventure, Crime, Thriller]      77368585"
            ]
          },
          "metadata": {
            "tags": []
          },
          "execution_count": 147
        }
      ]
    },
    {
      "cell_type": "code",
      "metadata": {
        "id": "NPDRx4fMoLgJ"
      },
      "source": [
        "g=[]\n",
        "each_movie=[]\n",
        "for i in range(5):\n",
        "  b=no_na_genres.loc[i,'genres']\n",
        "  for k in b:\n",
        "    g.append(k['name'])\n",
        "#     each_movie.append([g])\n",
        "    \n",
        "#   a=pd.DataFrame((each_movie))\n",
        "#   each_movie=[]\n",
        "# #a=pd.DataFrame([[g]])\n"
      ],
      "execution_count": null,
      "outputs": []
    },
    {
      "cell_type": "code",
      "metadata": {
        "id": "j0iPSVyKuhpw"
      },
      "source": [
        ""
      ],
      "execution_count": null,
      "outputs": []
    }
  ]
}